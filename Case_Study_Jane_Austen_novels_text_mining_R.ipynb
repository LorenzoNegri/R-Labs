{
 "cells": [
  {
   "cell_type": "markdown",
   "metadata": {},
   "source": [
    "#  Case Study: Jane_Austen_novels_text_mining_R"
   ]
  },
  {
   "cell_type": "markdown",
   "metadata": {},
   "source": [
    "## Getting the dataframe right"
   ]
  },
  {
   "cell_type": "markdown",
   "metadata": {},
   "source": [
    "We're going to analyse some very messy datasets - books - and visualise the relationships between them."
   ]
  },
  {
   "cell_type": "code",
   "execution_count": 4,
   "metadata": {},
   "outputs": [],
   "source": [
    "library(tidyverse)\n",
    "library(tidytext)\n",
    "library(janeaustenr)\n",
    "library(stringr)\n",
    "\n",
    "# import and tidy them so that each word is a subject\n",
    "original_books <- austen_books() %>%\n",
    "  group_by(book) %>%\n",
    "  mutate(linenumber = row_number(),\n",
    "         chapter = cumsum(str_detect(text, regex(\"^chapter [\\\\divxlc]\",\n",
    "                                                 ignore_case = TRUE)))) %>%\n",
    "  ungroup()\n",
    "tidy_books <- original_books %>%\n",
    "  unnest_tokens(word, text)"
   ]
  },
  {
   "cell_type": "markdown",
   "metadata": {},
   "source": [
    "Now, if we want to count the number of instances of each word, we can use the count function in the dplyr package."
   ]
  },
  {
   "cell_type": "code",
   "execution_count": 5,
   "metadata": {},
   "outputs": [
    {
     "name": "stderr",
     "output_type": "stream",
     "text": [
      "Joining, by = \"word\"\n"
     ]
    },
    {
     "name": "stdout",
     "output_type": "stream",
     "text": [
      "\u001b[90m# A tibble: 13,914 x 2\u001b[39m\n",
      "   word       n\n",
      "   \u001b[3m\u001b[90m<chr>\u001b[39m\u001b[23m  \u001b[3m\u001b[90m<int>\u001b[39m\u001b[23m\n",
      "\u001b[90m 1\u001b[39m miss    \u001b[4m1\u001b[24m855\n",
      "\u001b[90m 2\u001b[39m time    \u001b[4m1\u001b[24m337\n",
      "\u001b[90m 3\u001b[39m fanny    862\n",
      "\u001b[90m 4\u001b[39m dear     822\n",
      "\u001b[90m 5\u001b[39m lady     817\n",
      "\u001b[90m 6\u001b[39m sir      806\n",
      "\u001b[90m 7\u001b[39m day      797\n",
      "\u001b[90m 8\u001b[39m emma     787\n",
      "\u001b[90m 9\u001b[39m sister   727\n",
      "\u001b[90m10\u001b[39m house    699\n",
      "\u001b[90m# ... with 13,904 more rows\u001b[39m\n"
     ]
    }
   ],
   "source": [
    "library(dplyr)\n",
    "#I'll use the \"pipe\" function %>% to pass the output of each line directly to the next\n",
    "print(tidy_books %>%\n",
    "  anti_join(stop_words) %>% #remove common \"stop words\" here before counting\n",
    "  count(word, sort = TRUE))"
   ]
  },
  {
   "cell_type": "markdown",
   "metadata": {},
   "source": [
    "Make a plot by piping directly to `ggplot`:"
   ]
  },
  {
   "cell_type": "code",
   "execution_count": 6,
   "metadata": {},
   "outputs": [
    {
     "name": "stderr",
     "output_type": "stream",
     "text": [
      "Joining, by = \"word\"\n"
     ]
    },
    {
     "data": {
      "image/png": "[encoded data removed]",
      "text/plain": [
       "plot without title"
      ]
     },
     "metadata": {},
     "output_type": "display_data"
    }
   ],
   "source": [
    "tidy_books %>%\n",
    "  anti_join(stop_words) %>%\n",
    "  count(word, sort = TRUE) %>%\n",
    "  filter(n > 700) %>%\n",
    "  mutate(word = reorder(word, n)) %>% # neater way to reorder\n",
    "  ggplot(aes(word, n)) +\n",
    "  geom_col() +\n",
    "  xlab(NULL) +\n",
    "  coord_flip()"
   ]
  },
  {
   "cell_type": "code",
   "execution_count": null,
   "metadata": {},
   "outputs": [],
   "source": []
  }
 ],
 "metadata": {
  "kernelspec": {
   "display_name": "R",
   "language": "R",
   "name": "ir"
  },
  "language_info": {
   "codemirror_mode": "r",
   "file_extension": ".r",
   "mimetype": "text/x-r-source",
   "name": "R",
   "pygments_lexer": "r",
   "version": "3.6.1"
  }
 },
 "nbformat": 4,
 "nbformat_minor": 4
}
