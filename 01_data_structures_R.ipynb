{
 "cells": [
  {
   "cell_type": "markdown",
   "metadata": {},
   "source": [
    "# Looking at data structures - dataframes in R"
   ]
  },
  {
   "cell_type": "markdown",
   "metadata": {},
   "source": [
    "Dataframes are the fundamental data structure in R. They are essentially tables consisting of variables and observations. If we can represent your dataset as a dataframe, we're ready to start answering questions about it using R."
   ]
  },
  {
   "cell_type": "markdown",
   "metadata": {},
   "source": [
    "Let's load `mpg` dataframe contained in the `tidyverse` package:"
   ]
  },
  {
   "cell_type": "code",
   "execution_count": 24,
   "metadata": {},
   "outputs": [
    {
     "data": {
      "text/html": [
       "<table>\n",
       "<caption>A tibble: 6 × 11</caption>\n",
       "<thead>\n",
       "\t<tr><th scope=col>manufacturer</th><th scope=col>model</th><th scope=col>displ</th><th scope=col>year</th><th scope=col>cyl</th><th scope=col>trans</th><th scope=col>drv</th><th scope=col>cty</th><th scope=col>hwy</th><th scope=col>fl</th><th scope=col>class</th></tr>\n",
       "\t<tr><th scope=col>&lt;chr&gt;</th><th scope=col>&lt;chr&gt;</th><th scope=col>&lt;dbl&gt;</th><th scope=col>&lt;int&gt;</th><th scope=col>&lt;int&gt;</th><th scope=col>&lt;chr&gt;</th><th scope=col>&lt;chr&gt;</th><th scope=col>&lt;int&gt;</th><th scope=col>&lt;int&gt;</th><th scope=col>&lt;chr&gt;</th><th scope=col>&lt;chr&gt;</th></tr>\n",
       "</thead>\n",
       "<tbody>\n",
       "\t<tr><td>audi</td><td>a4</td><td>1.8</td><td>1999</td><td>4</td><td>auto(l5)  </td><td>f</td><td>18</td><td>29</td><td>p</td><td>compact</td></tr>\n",
       "\t<tr><td>audi</td><td>a4</td><td>1.8</td><td>1999</td><td>4</td><td>manual(m5)</td><td>f</td><td>21</td><td>29</td><td>p</td><td>compact</td></tr>\n",
       "\t<tr><td>audi</td><td>a4</td><td>2.0</td><td>2008</td><td>4</td><td>manual(m6)</td><td>f</td><td>20</td><td>31</td><td>p</td><td>compact</td></tr>\n",
       "\t<tr><td>audi</td><td>a4</td><td>2.0</td><td>2008</td><td>4</td><td>auto(av)  </td><td>f</td><td>21</td><td>30</td><td>p</td><td>compact</td></tr>\n",
       "\t<tr><td>audi</td><td>a4</td><td>2.8</td><td>1999</td><td>6</td><td>auto(l5)  </td><td>f</td><td>16</td><td>26</td><td>p</td><td>compact</td></tr>\n",
       "\t<tr><td>audi</td><td>a4</td><td>2.8</td><td>1999</td><td>6</td><td>manual(m5)</td><td>f</td><td>18</td><td>26</td><td>p</td><td>compact</td></tr>\n",
       "</tbody>\n",
       "</table>\n"
      ],
      "text/latex": [
       "A tibble: 6 × 11\n",
       "\\begin{tabular}{r|lllllllllll}\n",
       " manufacturer & model & displ & year & cyl & trans & drv & cty & hwy & fl & class\\\\\n",
       " <chr> & <chr> & <dbl> & <int> & <int> & <chr> & <chr> & <int> & <int> & <chr> & <chr>\\\\\n",
       "\\hline\n",
       "\t audi & a4 & 1.8 & 1999 & 4 & auto(l5)   & f & 18 & 29 & p & compact\\\\\n",
       "\t audi & a4 & 1.8 & 1999 & 4 & manual(m5) & f & 21 & 29 & p & compact\\\\\n",
       "\t audi & a4 & 2.0 & 2008 & 4 & manual(m6) & f & 20 & 31 & p & compact\\\\\n",
       "\t audi & a4 & 2.0 & 2008 & 4 & auto(av)   & f & 21 & 30 & p & compact\\\\\n",
       "\t audi & a4 & 2.8 & 1999 & 6 & auto(l5)   & f & 16 & 26 & p & compact\\\\\n",
       "\t audi & a4 & 2.8 & 1999 & 6 & manual(m5) & f & 18 & 26 & p & compact\\\\\n",
       "\\end{tabular}\n"
      ],
      "text/markdown": [
       "\n",
       "A tibble: 6 × 11\n",
       "\n",
       "| manufacturer &lt;chr&gt; | model &lt;chr&gt; | displ &lt;dbl&gt; | year &lt;int&gt; | cyl &lt;int&gt; | trans &lt;chr&gt; | drv &lt;chr&gt; | cty &lt;int&gt; | hwy &lt;int&gt; | fl &lt;chr&gt; | class &lt;chr&gt; |\n",
       "|---|---|---|---|---|---|---|---|---|---|---|\n",
       "| audi | a4 | 1.8 | 1999 | 4 | auto(l5)   | f | 18 | 29 | p | compact |\n",
       "| audi | a4 | 1.8 | 1999 | 4 | manual(m5) | f | 21 | 29 | p | compact |\n",
       "| audi | a4 | 2.0 | 2008 | 4 | manual(m6) | f | 20 | 31 | p | compact |\n",
       "| audi | a4 | 2.0 | 2008 | 4 | auto(av)   | f | 21 | 30 | p | compact |\n",
       "| audi | a4 | 2.8 | 1999 | 6 | auto(l5)   | f | 16 | 26 | p | compact |\n",
       "| audi | a4 | 2.8 | 1999 | 6 | manual(m5) | f | 18 | 26 | p | compact |\n",
       "\n"
      ],
      "text/plain": [
       "  manufacturer model displ year cyl trans      drv cty hwy fl class  \n",
       "1 audi         a4    1.8   1999 4   auto(l5)   f   18  29  p  compact\n",
       "2 audi         a4    1.8   1999 4   manual(m5) f   21  29  p  compact\n",
       "3 audi         a4    2.0   2008 4   manual(m6) f   20  31  p  compact\n",
       "4 audi         a4    2.0   2008 4   auto(av)   f   21  30  p  compact\n",
       "5 audi         a4    2.8   1999 6   auto(l5)   f   16  26  p  compact\n",
       "6 audi         a4    2.8   1999 6   manual(m5) f   18  26  p  compact"
      ]
     },
     "metadata": {},
     "output_type": "display_data"
    },
    {
     "name": "stdout",
     "output_type": "stream",
     "text": [
      "\n",
      " Number of rows of dataframe | Number of feautures:\n",
      " 234 11 \n",
      "\n"
     ]
    },
    {
     "data": {
      "text/plain": [
       " manufacturer          model               displ            year     \n",
       " Length:234         Length:234         Min.   :1.600   Min.   :1999  \n",
       " Class :character   Class :character   1st Qu.:2.400   1st Qu.:1999  \n",
       " Mode  :character   Mode  :character   Median :3.300   Median :2004  \n",
       "                                       Mean   :3.472   Mean   :2004  \n",
       "                                       3rd Qu.:4.600   3rd Qu.:2008  \n",
       "                                       Max.   :7.000   Max.   :2008  \n",
       "      cyl           trans               drv                 cty       \n",
       " Min.   :4.000   Length:234         Length:234         Min.   : 9.00  \n",
       " 1st Qu.:4.000   Class :character   Class :character   1st Qu.:14.00  \n",
       " Median :6.000   Mode  :character   Mode  :character   Median :17.00  \n",
       " Mean   :5.889                                         Mean   :16.86  \n",
       " 3rd Qu.:8.000                                         3rd Qu.:19.00  \n",
       " Max.   :8.000                                         Max.   :35.00  \n",
       "      hwy             fl               class          \n",
       " Min.   :12.00   Length:234         Length:234        \n",
       " 1st Qu.:18.00   Class :character   Class :character  \n",
       " Median :24.00   Mode  :character   Mode  :character  \n",
       " Mean   :23.44                                        \n",
       " 3rd Qu.:27.00                                        \n",
       " Max.   :44.00                                        "
      ]
     },
     "metadata": {},
     "output_type": "display_data"
    }
   ],
   "source": [
    "library(tidyverse)\n",
    "head(mpg) # visualize first lines of dataframe\n",
    "cat(\"\\n Number of rows of dataframe | Number of feautures:\\n\", dim(mpg),\"\\n\"); cat(\"\\n\")\n",
    "summary(mpg) # visualize descriptive stats of dataframe"
   ]
  },
  {
   "cell_type": "markdown",
   "metadata": {},
   "source": [
    "This dataframe contains data about the fuel economy of cars, collected between 1999 and 2008. Specifically, it's a table containing 234 rows, and 11 columns. It's called a \"tibble\" `tibble`, which is just a slightly modernised version of R's original `data.frame`."
   ]
  },
  {
   "cell_type": "markdown",
   "metadata": {},
   "source": [
    "We can create our own tibbles:"
   ]
  },
  {
   "cell_type": "code",
   "execution_count": 25,
   "metadata": {},
   "outputs": [
    {
     "data": {
      "text/html": [
       "<table>\n",
       "<caption>A tibble: 4 × 3</caption>\n",
       "<thead>\n",
       "\t<tr><th scope=col>x</th><th scope=col>y</th><th scope=col>z</th></tr>\n",
       "\t<tr><th scope=col>&lt;int&gt;</th><th scope=col>&lt;dbl&gt;</th><th scope=col>&lt;dbl&gt;</th></tr>\n",
       "</thead>\n",
       "<tbody>\n",
       "\t<tr><td>1</td><td> 1</td><td> 1.1</td></tr>\n",
       "\t<tr><td>2</td><td> 4</td><td> 4.1</td></tr>\n",
       "\t<tr><td>3</td><td> 9</td><td> 9.1</td></tr>\n",
       "\t<tr><td>4</td><td>16</td><td>16.1</td></tr>\n",
       "</tbody>\n",
       "</table>\n"
      ],
      "text/latex": [
       "A tibble: 4 × 3\n",
       "\\begin{tabular}{r|lll}\n",
       " x & y & z\\\\\n",
       " <int> & <dbl> & <dbl>\\\\\n",
       "\\hline\n",
       "\t 1 &  1 &  1.1\\\\\n",
       "\t 2 &  4 &  4.1\\\\\n",
       "\t 3 &  9 &  9.1\\\\\n",
       "\t 4 & 16 & 16.1\\\\\n",
       "\\end{tabular}\n"
      ],
      "text/markdown": [
       "\n",
       "A tibble: 4 × 3\n",
       "\n",
       "| x &lt;int&gt; | y &lt;dbl&gt; | z &lt;dbl&gt; |\n",
       "|---|---|---|\n",
       "| 1 |  1 |  1.1 |\n",
       "| 2 |  4 |  4.1 |\n",
       "| 3 |  9 |  9.1 |\n",
       "| 4 | 16 | 16.1 |\n",
       "\n"
      ],
      "text/plain": [
       "  x y  z   \n",
       "1 1  1  1.1\n",
       "2 2  4  4.1\n",
       "3 3  9  9.1\n",
       "4 4 16 16.1"
      ]
     },
     "metadata": {},
     "output_type": "display_data"
    }
   ],
   "source": [
    "mytibble <- tibble(\n",
    "  x = 1:4, \n",
    "  y = x^2, \n",
    "  z = y + 0.1\n",
    ")\n",
    "mytibble"
   ]
  },
  {
   "cell_type": "markdown",
   "metadata": {},
   "source": [
    "And also create \"tribbles\": they are just \"transposed tibbles\":"
   ]
  },
  {
   "cell_type": "code",
   "execution_count": 26,
   "metadata": {},
   "outputs": [
    {
     "data": {
      "text/html": [
       "<table>\n",
       "<caption>A tibble: 3 × 3</caption>\n",
       "<thead>\n",
       "\t<tr><th scope=col>x</th><th scope=col>y</th><th scope=col>z</th></tr>\n",
       "\t<tr><th scope=col>&lt;dbl&gt;</th><th scope=col>&lt;dbl&gt;</th><th scope=col>&lt;chr&gt;</th></tr>\n",
       "</thead>\n",
       "<tbody>\n",
       "\t<tr><td>1</td><td> 4.2</td><td>a</td></tr>\n",
       "\t<tr><td>3</td><td> 9.6</td><td>b</td></tr>\n",
       "\t<tr><td>4</td><td>16.8</td><td>c</td></tr>\n",
       "</tbody>\n",
       "</table>\n"
      ],
      "text/latex": [
       "A tibble: 3 × 3\n",
       "\\begin{tabular}{r|lll}\n",
       " x & y & z\\\\\n",
       " <dbl> & <dbl> & <chr>\\\\\n",
       "\\hline\n",
       "\t 1 &  4.2 & a\\\\\n",
       "\t 3 &  9.6 & b\\\\\n",
       "\t 4 & 16.8 & c\\\\\n",
       "\\end{tabular}\n"
      ],
      "text/markdown": [
       "\n",
       "A tibble: 3 × 3\n",
       "\n",
       "| x &lt;dbl&gt; | y &lt;dbl&gt; | z &lt;chr&gt; |\n",
       "|---|---|---|\n",
       "| 1 |  4.2 | a |\n",
       "| 3 |  9.6 | b |\n",
       "| 4 | 16.8 | c |\n",
       "\n"
      ],
      "text/plain": [
       "  x y    z\n",
       "1 1  4.2 a\n",
       "2 3  9.6 b\n",
       "3 4 16.8 c"
      ]
     },
     "metadata": {},
     "output_type": "display_data"
    }
   ],
   "source": [
    "mytribble <- tribble(\n",
    "  ~x, ~y, ~z,\n",
    "  1, 4.2,\"a\",\n",
    "  3, 9.6,\"b\",\n",
    "  4,16.8,\"c\"  \n",
    ")\n",
    "mytribble"
   ]
  },
  {
   "cell_type": "markdown",
   "metadata": {},
   "source": [
    "That might be easier, depending on the situation."
   ]
  },
  {
   "cell_type": "markdown",
   "metadata": {},
   "source": [
    "## Getting variables from a dataframe"
   ]
  },
  {
   "cell_type": "markdown",
   "metadata": {},
   "source": [
    "If we want to see how many different types of car there are in the dataset, we can try using `unique`"
   ]
  },
  {
   "cell_type": "code",
   "execution_count": 27,
   "metadata": {},
   "outputs": [
    {
     "data": {
      "text/html": [
       "<ol class=list-inline>\n",
       "\t<li>'a4'</li>\n",
       "\t<li>'a4 quattro'</li>\n",
       "\t<li>'a6 quattro'</li>\n",
       "\t<li>'c1500 suburban 2wd'</li>\n",
       "\t<li>'corvette'</li>\n",
       "\t<li>'k1500 tahoe 4wd'</li>\n",
       "\t<li>'malibu'</li>\n",
       "\t<li>'caravan 2wd'</li>\n",
       "\t<li>'dakota pickup 4wd'</li>\n",
       "\t<li>'durango 4wd'</li>\n",
       "\t<li>'ram 1500 pickup 4wd'</li>\n",
       "\t<li>'expedition 2wd'</li>\n",
       "\t<li>'explorer 4wd'</li>\n",
       "\t<li>'f150 pickup 4wd'</li>\n",
       "\t<li>'mustang'</li>\n",
       "\t<li>'civic'</li>\n",
       "\t<li>'sonata'</li>\n",
       "\t<li>'tiburon'</li>\n",
       "\t<li>'grand cherokee 4wd'</li>\n",
       "\t<li>'range rover'</li>\n",
       "\t<li>'navigator 2wd'</li>\n",
       "\t<li>'mountaineer 4wd'</li>\n",
       "\t<li>'altima'</li>\n",
       "\t<li>'maxima'</li>\n",
       "\t<li>'pathfinder 4wd'</li>\n",
       "\t<li>'grand prix'</li>\n",
       "\t<li>'forester awd'</li>\n",
       "\t<li>'impreza awd'</li>\n",
       "\t<li>'4runner 4wd'</li>\n",
       "\t<li>'camry'</li>\n",
       "\t<li>'camry solara'</li>\n",
       "\t<li>'corolla'</li>\n",
       "\t<li>'land cruiser wagon 4wd'</li>\n",
       "\t<li>'toyota tacoma 4wd'</li>\n",
       "\t<li>'gti'</li>\n",
       "\t<li>'jetta'</li>\n",
       "\t<li>'new beetle'</li>\n",
       "\t<li>'passat'</li>\n",
       "</ol>\n"
      ],
      "text/latex": [
       "\\begin{enumerate*}\n",
       "\\item 'a4'\n",
       "\\item 'a4 quattro'\n",
       "\\item 'a6 quattro'\n",
       "\\item 'c1500 suburban 2wd'\n",
       "\\item 'corvette'\n",
       "\\item 'k1500 tahoe 4wd'\n",
       "\\item 'malibu'\n",
       "\\item 'caravan 2wd'\n",
       "\\item 'dakota pickup 4wd'\n",
       "\\item 'durango 4wd'\n",
       "\\item 'ram 1500 pickup 4wd'\n",
       "\\item 'expedition 2wd'\n",
       "\\item 'explorer 4wd'\n",
       "\\item 'f150 pickup 4wd'\n",
       "\\item 'mustang'\n",
       "\\item 'civic'\n",
       "\\item 'sonata'\n",
       "\\item 'tiburon'\n",
       "\\item 'grand cherokee 4wd'\n",
       "\\item 'range rover'\n",
       "\\item 'navigator 2wd'\n",
       "\\item 'mountaineer 4wd'\n",
       "\\item 'altima'\n",
       "\\item 'maxima'\n",
       "\\item 'pathfinder 4wd'\n",
       "\\item 'grand prix'\n",
       "\\item 'forester awd'\n",
       "\\item 'impreza awd'\n",
       "\\item '4runner 4wd'\n",
       "\\item 'camry'\n",
       "\\item 'camry solara'\n",
       "\\item 'corolla'\n",
       "\\item 'land cruiser wagon 4wd'\n",
       "\\item 'toyota tacoma 4wd'\n",
       "\\item 'gti'\n",
       "\\item 'jetta'\n",
       "\\item 'new beetle'\n",
       "\\item 'passat'\n",
       "\\end{enumerate*}\n"
      ],
      "text/markdown": [
       "1. 'a4'\n",
       "2. 'a4 quattro'\n",
       "3. 'a6 quattro'\n",
       "4. 'c1500 suburban 2wd'\n",
       "5. 'corvette'\n",
       "6. 'k1500 tahoe 4wd'\n",
       "7. 'malibu'\n",
       "8. 'caravan 2wd'\n",
       "9. 'dakota pickup 4wd'\n",
       "10. 'durango 4wd'\n",
       "11. 'ram 1500 pickup 4wd'\n",
       "12. 'expedition 2wd'\n",
       "13. 'explorer 4wd'\n",
       "14. 'f150 pickup 4wd'\n",
       "15. 'mustang'\n",
       "16. 'civic'\n",
       "17. 'sonata'\n",
       "18. 'tiburon'\n",
       "19. 'grand cherokee 4wd'\n",
       "20. 'range rover'\n",
       "21. 'navigator 2wd'\n",
       "22. 'mountaineer 4wd'\n",
       "23. 'altima'\n",
       "24. 'maxima'\n",
       "25. 'pathfinder 4wd'\n",
       "26. 'grand prix'\n",
       "27. 'forester awd'\n",
       "28. 'impreza awd'\n",
       "29. '4runner 4wd'\n",
       "30. 'camry'\n",
       "31. 'camry solara'\n",
       "32. 'corolla'\n",
       "33. 'land cruiser wagon 4wd'\n",
       "34. 'toyota tacoma 4wd'\n",
       "35. 'gti'\n",
       "36. 'jetta'\n",
       "37. 'new beetle'\n",
       "38. 'passat'\n",
       "\n",
       "\n"
      ],
      "text/plain": [
       " [1] \"a4\"                     \"a4 quattro\"             \"a6 quattro\"            \n",
       " [4] \"c1500 suburban 2wd\"     \"corvette\"               \"k1500 tahoe 4wd\"       \n",
       " [7] \"malibu\"                 \"caravan 2wd\"            \"dakota pickup 4wd\"     \n",
       "[10] \"durango 4wd\"            \"ram 1500 pickup 4wd\"    \"expedition 2wd\"        \n",
       "[13] \"explorer 4wd\"           \"f150 pickup 4wd\"        \"mustang\"               \n",
       "[16] \"civic\"                  \"sonata\"                 \"tiburon\"               \n",
       "[19] \"grand cherokee 4wd\"     \"range rover\"            \"navigator 2wd\"         \n",
       "[22] \"mountaineer 4wd\"        \"altima\"                 \"maxima\"                \n",
       "[25] \"pathfinder 4wd\"         \"grand prix\"             \"forester awd\"          \n",
       "[28] \"impreza awd\"            \"4runner 4wd\"            \"camry\"                 \n",
       "[31] \"camry solara\"           \"corolla\"                \"land cruiser wagon 4wd\"\n",
       "[34] \"toyota tacoma 4wd\"      \"gti\"                    \"jetta\"                 \n",
       "[37] \"new beetle\"             \"passat\"                "
      ]
     },
     "metadata": {},
     "output_type": "display_data"
    }
   ],
   "source": [
    "unique(mpg$model)"
   ]
  },
  {
   "cell_type": "markdown",
   "metadata": {},
   "source": [
    "There are 38 different types of cars in the dataset."
   ]
  },
  {
   "cell_type": "markdown",
   "metadata": {},
   "source": [
    "Other selection methods:"
   ]
  },
  {
   "cell_type": "code",
   "execution_count": 29,
   "metadata": {},
   "outputs": [
    {
     "data": {
      "text/html": [
       "<table>\n",
       "<caption>A tibble: 1 × 11</caption>\n",
       "<thead>\n",
       "\t<tr><th scope=col>manufacturer</th><th scope=col>model</th><th scope=col>displ</th><th scope=col>year</th><th scope=col>cyl</th><th scope=col>trans</th><th scope=col>drv</th><th scope=col>cty</th><th scope=col>hwy</th><th scope=col>fl</th><th scope=col>class</th></tr>\n",
       "\t<tr><th scope=col>&lt;chr&gt;</th><th scope=col>&lt;chr&gt;</th><th scope=col>&lt;dbl&gt;</th><th scope=col>&lt;int&gt;</th><th scope=col>&lt;int&gt;</th><th scope=col>&lt;chr&gt;</th><th scope=col>&lt;chr&gt;</th><th scope=col>&lt;int&gt;</th><th scope=col>&lt;int&gt;</th><th scope=col>&lt;chr&gt;</th><th scope=col>&lt;chr&gt;</th></tr>\n",
       "</thead>\n",
       "<tbody>\n",
       "\t<tr><td>toyota</td><td>corolla</td><td>1.8</td><td>1999</td><td>4</td><td>auto(l3)</td><td>f</td><td>24</td><td>30</td><td>r</td><td>compact</td></tr>\n",
       "</tbody>\n",
       "</table>\n"
      ],
      "text/latex": [
       "A tibble: 1 × 11\n",
       "\\begin{tabular}{r|lllllllllll}\n",
       " manufacturer & model & displ & year & cyl & trans & drv & cty & hwy & fl & class\\\\\n",
       " <chr> & <chr> & <dbl> & <int> & <int> & <chr> & <chr> & <int> & <int> & <chr> & <chr>\\\\\n",
       "\\hline\n",
       "\t toyota & corolla & 1.8 & 1999 & 4 & auto(l3) & f & 24 & 30 & r & compact\\\\\n",
       "\\end{tabular}\n"
      ],
      "text/markdown": [
       "\n",
       "A tibble: 1 × 11\n",
       "\n",
       "| manufacturer &lt;chr&gt; | model &lt;chr&gt; | displ &lt;dbl&gt; | year &lt;int&gt; | cyl &lt;int&gt; | trans &lt;chr&gt; | drv &lt;chr&gt; | cty &lt;int&gt; | hwy &lt;int&gt; | fl &lt;chr&gt; | class &lt;chr&gt; |\n",
       "|---|---|---|---|---|---|---|---|---|---|---|\n",
       "| toyota | corolla | 1.8 | 1999 | 4 | auto(l3) | f | 24 | 30 | r | compact |\n",
       "\n"
      ],
      "text/plain": [
       "  manufacturer model   displ year cyl trans    drv cty hwy fl class  \n",
       "1 toyota       corolla 1.8   1999 4   auto(l3) f   24  30  r  compact"
      ]
     },
     "metadata": {},
     "output_type": "display_data"
    }
   ],
   "source": [
    "# select specific row\n",
    "mpg[194,]"
   ]
  },
  {
   "cell_type": "code",
   "execution_count": 30,
   "metadata": {},
   "outputs": [
    {
     "data": {
      "text/html": [
       "<table>\n",
       "<caption>A tibble: 1 × 1</caption>\n",
       "<thead>\n",
       "\t<tr><th scope=col>model</th></tr>\n",
       "\t<tr><th scope=col>&lt;chr&gt;</th></tr>\n",
       "</thead>\n",
       "<tbody>\n",
       "\t<tr><td>corolla</td></tr>\n",
       "</tbody>\n",
       "</table>\n"
      ],
      "text/latex": [
       "A tibble: 1 × 1\n",
       "\\begin{tabular}{r|l}\n",
       " model\\\\\n",
       " <chr>\\\\\n",
       "\\hline\n",
       "\t corolla\\\\\n",
       "\\end{tabular}\n"
      ],
      "text/markdown": [
       "\n",
       "A tibble: 1 × 1\n",
       "\n",
       "| model &lt;chr&gt; |\n",
       "|---|\n",
       "| corolla |\n",
       "\n"
      ],
      "text/plain": [
       "  model  \n",
       "1 corolla"
      ]
     },
     "metadata": {},
     "output_type": "display_data"
    }
   ],
   "source": [
    "# select row and column\n",
    "mpg[194,2]"
   ]
  },
  {
   "cell_type": "code",
   "execution_count": 31,
   "metadata": {},
   "outputs": [
    {
     "data": {
      "text/html": [
       "<table>\n",
       "<caption>A tibble: 5 × 4</caption>\n",
       "<thead>\n",
       "\t<tr><th scope=col>manufacturer</th><th scope=col>model</th><th scope=col>displ</th><th scope=col>year</th></tr>\n",
       "\t<tr><th scope=col>&lt;chr&gt;</th><th scope=col>&lt;chr&gt;</th><th scope=col>&lt;dbl&gt;</th><th scope=col>&lt;int&gt;</th></tr>\n",
       "</thead>\n",
       "<tbody>\n",
       "\t<tr><td>toyota</td><td>corolla</td><td>1.8</td><td>1999</td></tr>\n",
       "\t<tr><td>toyota</td><td>corolla</td><td>1.8</td><td>1999</td></tr>\n",
       "\t<tr><td>toyota</td><td>corolla</td><td>1.8</td><td>1999</td></tr>\n",
       "\t<tr><td>toyota</td><td>corolla</td><td>1.8</td><td>2008</td></tr>\n",
       "\t<tr><td>toyota</td><td>corolla</td><td>1.8</td><td>2008</td></tr>\n",
       "</tbody>\n",
       "</table>\n"
      ],
      "text/latex": [
       "A tibble: 5 × 4\n",
       "\\begin{tabular}{r|llll}\n",
       " manufacturer & model & displ & year\\\\\n",
       " <chr> & <chr> & <dbl> & <int>\\\\\n",
       "\\hline\n",
       "\t toyota & corolla & 1.8 & 1999\\\\\n",
       "\t toyota & corolla & 1.8 & 1999\\\\\n",
       "\t toyota & corolla & 1.8 & 1999\\\\\n",
       "\t toyota & corolla & 1.8 & 2008\\\\\n",
       "\t toyota & corolla & 1.8 & 2008\\\\\n",
       "\\end{tabular}\n"
      ],
      "text/markdown": [
       "\n",
       "A tibble: 5 × 4\n",
       "\n",
       "| manufacturer &lt;chr&gt; | model &lt;chr&gt; | displ &lt;dbl&gt; | year &lt;int&gt; |\n",
       "|---|---|---|---|\n",
       "| toyota | corolla | 1.8 | 1999 |\n",
       "| toyota | corolla | 1.8 | 1999 |\n",
       "| toyota | corolla | 1.8 | 1999 |\n",
       "| toyota | corolla | 1.8 | 2008 |\n",
       "| toyota | corolla | 1.8 | 2008 |\n",
       "\n"
      ],
      "text/plain": [
       "  manufacturer model   displ year\n",
       "1 toyota       corolla 1.8   1999\n",
       "2 toyota       corolla 1.8   1999\n",
       "3 toyota       corolla 1.8   1999\n",
       "4 toyota       corolla 1.8   2008\n",
       "5 toyota       corolla 1.8   2008"
      ]
     },
     "metadata": {},
     "output_type": "display_data"
    }
   ],
   "source": [
    "# select a range of rows and columns\n",
    "mpg[194:198,1:4]"
   ]
  },
  {
   "cell_type": "markdown",
   "metadata": {},
   "source": [
    "## Tables and barcharts in R"
   ]
  },
  {
   "cell_type": "markdown",
   "metadata": {},
   "source": [
    "How many of each brand of car we have in dataframe?"
   ]
  },
  {
   "cell_type": "markdown",
   "metadata": {},
   "source": [
    "One way to answer this is to make a table. Making a table of counts of each type is easy"
   ]
  },
  {
   "cell_type": "code",
   "execution_count": 42,
   "metadata": {},
   "outputs": [
    {
     "data": {
      "text/plain": [
       "\n",
       "      audi  chevrolet      dodge       ford      honda    hyundai       jeep \n",
       "        18         19         37         25          9         14          8 \n",
       "land rover    lincoln    mercury     nissan    pontiac     subaru     toyota \n",
       "         4          3          4         13          5         14         34 \n",
       "volkswagen \n",
       "        27 "
      ]
     },
     "metadata": {},
     "output_type": "display_data"
    }
   ],
   "source": [
    "table(mpg$manufacturer)"
   ]
  },
  {
   "cell_type": "markdown",
   "metadata": {},
   "source": [
    "This shows us that there are 18 Audis in the dataset, 19 Chevrolets, and so on. But we might like to know the *proportion* of each type of car. We can pass the table to the R function `prop.table` to convert all these numbers into proportions:"
   ]
  },
  {
   "cell_type": "code",
   "execution_count": 43,
   "metadata": {},
   "outputs": [
    {
     "data": {
      "text/plain": [
       "\n",
       "      audi  chevrolet      dodge       ford      honda    hyundai       jeep \n",
       "0.07692308 0.08119658 0.15811966 0.10683761 0.03846154 0.05982906 0.03418803 \n",
       "land rover    lincoln    mercury     nissan    pontiac     subaru     toyota \n",
       "0.01709402 0.01282051 0.01709402 0.05555556 0.02136752 0.05982906 0.14529915 \n",
       "volkswagen \n",
       "0.11538462 "
      ]
     },
     "metadata": {},
     "output_type": "display_data"
    }
   ],
   "source": [
    "prop.table(table(mpg$manufacturer))"
   ]
  },
  {
   "cell_type": "markdown",
   "metadata": {},
   "source": [
    "So, now we know that about 15.8% of the cars are Dodges, and 10.7% are Fords. It might be nicer still to represent this information as a bar chart, so we don't have to read all those numbers. This is where we get `ggplot` package."
   ]
  },
  {
   "cell_type": "code",
   "execution_count": 49,
   "metadata": {},
   "outputs": [
    {
     "data": {
      "image/png": "[encoded data removed]",
      "text/plain": [
       "plot without title"
      ]
     },
     "metadata": {},
     "output_type": "display_data"
    }
   ],
   "source": [
    "ggplot(mpg,aes(manufacturer)) +\n",
    "        geom_bar() +\n",
    "        theme(text = element_text(size = 18), axis.text.x = element_text(angle = 90))"
   ]
  }
 ],
 "metadata": {
  "kernelspec": {
   "display_name": "R",
   "language": "R",
   "name": "ir"
  },
  "language_info": {
   "codemirror_mode": "r",
   "file_extension": ".r",
   "mimetype": "text/x-r-source",
   "name": "R",
   "pygments_lexer": "r",
   "version": "3.6.1"
  }
 },
 "nbformat": 4,
 "nbformat_minor": 4
}
