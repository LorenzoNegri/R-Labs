{
 "cells": [
  {
   "cell_type": "markdown",
   "metadata": {},
   "source": [
    "# Term Frequency - Inverse Document Frequency (TF-IDF): Mathematics and R code"
   ]
  },
  {
   "cell_type": "markdown",
   "metadata": {},
   "source": [
    "Case studies of text analysis, and I'll look at some common transformations we can make on these types of datasets. One issue with text data that we came across is that datasets like novels contain a lot of common \"stop words\" which don't carry much information, eg. \"the\", \"and\", \"of\", etc. We'd like to transform text data to emphasise the words which carry meaning, and even better, the words which help us distinguish between documents."
   ]
  },
  {
   "cell_type": "markdown",
   "metadata": {},
   "source": [
    "One common transformation to do this is called ***term frequency** - inverse document frequency (TF-IDF)*, and it works like this. For a given word or term t in a set of documents:\n",
    "\n",
    "\n",
    "$$TF=\\frac{Nt}{Tt}$$\n",
    "\n",
    "\n",
    "Where **Nt = Number of instances of *t* in document**, **Tt = Total number of terms in document**\n",
    "\n",
    "\n",
    "$$IDF=log(\\frac{Td}{Dt})$$\n",
    "\n",
    "\n",
    "Where **Td = Total number of documents**, **Tt = Number of documents in which *t* appears**"
   ]
  },
  {
   "cell_type": "markdown",
   "metadata": {},
   "source": [
    "And then the **TF-IDF** transformation for t is the product of these two, $TF(t)×IDF(t)$. Each word now has a weight, based on how it appears across all documents. The beauty of this is that while TF gives higher weight to common words, IDF weights words which only occur in the few documents, so the product emphasises words which are distinguished between documents. Let's see it in action."
   ]
  },
  {
   "cell_type": "markdown",
   "metadata": {},
   "source": [
    "We're going to look at the words which distinguish between different eras in the history of physics. First, we'll need to download books by some physicists from Project Gutenberg:"
   ]
  },
  {
   "cell_type": "code",
   "execution_count": 4,
   "metadata": {},
   "outputs": [
    {
     "name": "stdout",
     "output_type": "stream",
     "text": [
      "\u001b[90m# A tibble: 12,671 x 3\u001b[39m\n",
      "   author              word      n\n",
      "   \u001b[3m\u001b[90m<chr>\u001b[39m\u001b[23m               \u001b[3m\u001b[90m<chr>\u001b[39m\u001b[23m \u001b[3m\u001b[90m<int>\u001b[39m\u001b[23m\n",
      "\u001b[90m 1\u001b[39m Galilei, Galileo    the    \u001b[4m3\u001b[24m760\n",
      "\u001b[90m 2\u001b[39m Tesla, Nikola       the    \u001b[4m3\u001b[24m604\n",
      "\u001b[90m 3\u001b[39m Huygens, Christiaan the    \u001b[4m3\u001b[24m553\n",
      "\u001b[90m 4\u001b[39m Einstein, Albert    the    \u001b[4m2\u001b[24m993\n",
      "\u001b[90m 5\u001b[39m Galilei, Galileo    of     \u001b[4m2\u001b[24m049\n",
      "\u001b[90m 6\u001b[39m Einstein, Albert    of     \u001b[4m2\u001b[24m028\n",
      "\u001b[90m 7\u001b[39m Tesla, Nikola       of     \u001b[4m1\u001b[24m737\n",
      "\u001b[90m 8\u001b[39m Huygens, Christiaan of     \u001b[4m1\u001b[24m708\n",
      "\u001b[90m 9\u001b[39m Huygens, Christiaan to     \u001b[4m1\u001b[24m207\n",
      "\u001b[90m10\u001b[39m Tesla, Nikola       a      \u001b[4m1\u001b[24m176\n",
      "\u001b[90m# ... with 12,661 more rows\u001b[39m\n"
     ]
    }
   ],
   "source": [
    "library(tidyverse)\n",
    "library(gutenbergr)\n",
    "library(tidytext)\n",
    "physics <- gutenberg_download(c(37729, 14725, 13476, 30155), \n",
    "                              meta_fields = \"author\")\n",
    "physics_words <- physics %>%\n",
    "  unnest_tokens(word, text) %>%\n",
    "  count(author, word, sort = TRUE) %>%\n",
    "  ungroup()\n",
    "\n",
    "print(physics_words)"
   ]
  },
  {
   "cell_type": "markdown",
   "metadata": {},
   "source": [
    "These famous scientists write \"the\" and \"of\" a lot. This is not very informative. Let's transform the data using **TF-IDF** and visualise the new top words using this weighting. We remove a curated list of stop words like \"fig\" for \"figure\", and \"eq\" for \"equation\", which appear in some of the books first:"
   ]
  },
  {
   "cell_type": "code",
   "execution_count": 5,
   "metadata": {},
   "outputs": [
    {
     "data": {
      "image/png": "[encoded data removed]",
      "text/plain": [
       "plot without title"
      ]
     },
     "metadata": {},
     "output_type": "display_data"
    }
   ],
   "source": [
    "physics_words <- physics_words %>%\n",
    "  bind_tf_idf(word, author, n) \n",
    "\n",
    "mystopwords <- tibble(word = c(\"eq\", \"co\", \"rc\", \"ac\", \"ak\", \"bn\", \n",
    "                                   \"fig\", \"file\", \"cg\", \"cb\", \"cm\"))\n",
    "\n",
    "physics_words <- anti_join(physics_words, mystopwords, by = \"word\")\n",
    "\n",
    "plot_physics <- physics_words %>%\n",
    "  arrange(desc(tf_idf)) %>%\n",
    "  mutate(word = factor(word, levels = rev(unique(word)))) %>%\n",
    "  group_by(author) %>% \n",
    "  top_n(15, tf_idf) %>%\n",
    "  ungroup %>%\n",
    "  mutate(author = factor(author, levels = c(\"Galilei, Galileo\",\n",
    "                                            \"Huygens, Christiaan\",\n",
    "                                            \"Tesla, Nikola\",\n",
    "                                            \"Einstein, Albert\")))\n",
    "\n",
    "ggplot(plot_physics, aes(word, tf_idf, fill = author)) +\n",
    "  geom_col(show.legend = FALSE) +\n",
    "  labs(x = NULL, y = \"tf-idf\") +\n",
    "  facet_wrap(~author, ncol = 2, scales = \"free\") +\n",
    "  coord_flip()"
   ]
  },
  {
   "cell_type": "markdown",
   "metadata": {},
   "source": [
    "This reveals that:\n",
    "\n",
    "  -  Galileo wrote more about \"water\" and \"gravity\"\n",
    "  -  Huygens was most concerned with \"refraction\"\n",
    "  -  Tesla was most concerned with electricity (\"bulb\", \"coil\", \"wire\")\n",
    "  -  Einstein, of course, was concerned with \"relativity\".\n",
    "\n",
    "That's a nice little potted history of a few hundred years of progress in physics, and all revealed algorithmically from the writings of the people themselves."
   ]
  }
 ],
 "metadata": {
  "kernelspec": {
   "display_name": "R",
   "language": "R",
   "name": "ir"
  },
  "language_info": {
   "codemirror_mode": "r",
   "file_extension": ".r",
   "mimetype": "text/x-r-source",
   "name": "R",
   "pygments_lexer": "r",
   "version": "3.6.1"
  }
 },
 "nbformat": 4,
 "nbformat_minor": 4
}
