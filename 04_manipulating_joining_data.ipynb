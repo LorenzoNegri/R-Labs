{
 "cells": [
  {
   "cell_type": "markdown",
   "metadata": {},
   "source": [
    "# Manipulating and joining data"
   ]
  },
  {
   "cell_type": "markdown",
   "metadata": {},
   "source": [
    "Using `dplyr`"
   ]
  },
  {
   "cell_type": "markdown",
   "metadata": {},
   "source": [
    "<h2>Table of content</h2>\n",
    "<ul>\n",
    "    <li><a href=\"#ref1\">Filtering subjects based on criteria</a></li>\n",
    "    <li><a href=\"#ref2\">Select</a></li>\n",
    "    <li><a href=\"#ref3\">Making new variables</a></li>\n",
    "    <li><a href=\"#ref4\">Grouping subjects based on criteria</a></li>\n",
    "    <li><a href=\"#re5\">Producing summary statistics for groups of subjects</a></li>\n",
    "    <li><a href=\"#re6\">Putting together multiple dataframes with common subjectsv\n",
    "</ul>"
   ]
  },
  {
   "cell_type": "markdown",
   "metadata": {},
   "source": [
    "## Filtering subjects based on criteria"
   ]
  },
  {
   "cell_type": "code",
   "execution_count": 27,
   "metadata": {},
   "outputs": [],
   "source": [
    "library(tidyverse)"
   ]
  },
  {
   "cell_type": "markdown",
   "metadata": {},
   "source": [
    "How to access rows (subjects) and columns (variables) in a dataframe? For example, we can get the first row of the mpg dataset, like this:"
   ]
  },
  {
   "cell_type": "code",
   "execution_count": 28,
   "metadata": {},
   "outputs": [
    {
     "data": {
      "text/html": [
       "<table>\n",
       "<caption>A tibble: 1 × 11</caption>\n",
       "<thead>\n",
       "\t<tr><th scope=col>manufacturer</th><th scope=col>model</th><th scope=col>displ</th><th scope=col>year</th><th scope=col>cyl</th><th scope=col>trans</th><th scope=col>drv</th><th scope=col>cty</th><th scope=col>hwy</th><th scope=col>fl</th><th scope=col>class</th></tr>\n",
       "\t<tr><th scope=col>&lt;chr&gt;</th><th scope=col>&lt;chr&gt;</th><th scope=col>&lt;dbl&gt;</th><th scope=col>&lt;int&gt;</th><th scope=col>&lt;int&gt;</th><th scope=col>&lt;chr&gt;</th><th scope=col>&lt;chr&gt;</th><th scope=col>&lt;int&gt;</th><th scope=col>&lt;int&gt;</th><th scope=col>&lt;chr&gt;</th><th scope=col>&lt;chr&gt;</th></tr>\n",
       "</thead>\n",
       "<tbody>\n",
       "\t<tr><td>audi</td><td>a4</td><td>1.8</td><td>1999</td><td>4</td><td>auto(l5)</td><td>f</td><td>18</td><td>29</td><td>p</td><td>compact</td></tr>\n",
       "</tbody>\n",
       "</table>\n"
      ],
      "text/latex": [
       "A tibble: 1 × 11\n",
       "\\begin{tabular}{r|lllllllllll}\n",
       " manufacturer & model & displ & year & cyl & trans & drv & cty & hwy & fl & class\\\\\n",
       " <chr> & <chr> & <dbl> & <int> & <int> & <chr> & <chr> & <int> & <int> & <chr> & <chr>\\\\\n",
       "\\hline\n",
       "\t audi & a4 & 1.8 & 1999 & 4 & auto(l5) & f & 18 & 29 & p & compact\\\\\n",
       "\\end{tabular}\n"
      ],
      "text/markdown": [
       "\n",
       "A tibble: 1 × 11\n",
       "\n",
       "| manufacturer &lt;chr&gt; | model &lt;chr&gt; | displ &lt;dbl&gt; | year &lt;int&gt; | cyl &lt;int&gt; | trans &lt;chr&gt; | drv &lt;chr&gt; | cty &lt;int&gt; | hwy &lt;int&gt; | fl &lt;chr&gt; | class &lt;chr&gt; |\n",
       "|---|---|---|---|---|---|---|---|---|---|---|\n",
       "| audi | a4 | 1.8 | 1999 | 4 | auto(l5) | f | 18 | 29 | p | compact |\n",
       "\n"
      ],
      "text/plain": [
       "  manufacturer model displ year cyl trans    drv cty hwy fl class  \n",
       "1 audi         a4    1.8   1999 4   auto(l5) f   18  29  p  compact"
      ]
     },
     "metadata": {},
     "output_type": "display_data"
    }
   ],
   "source": [
    "mpg[1,]"
   ]
  },
  {
   "cell_type": "markdown",
   "metadata": {},
   "source": [
    "This way is fine most of the time, but sometimes we would like to be more precise with filtering examples. So, I'm going to use the package `dplyr` in the `tidyverse` package. Also, I am going to use the flights dataset, here. This dataset is in the `nycflights13` package."
   ]
  },
  {
   "cell_type": "code",
   "execution_count": 29,
   "metadata": {},
   "outputs": [
    {
     "data": {
      "text/html": [
       "<table>\n",
       "<caption>A tibble: 6 × 27</caption>\n",
       "<thead>\n",
       "\t<tr><th scope=col>year</th><th scope=col>month</th><th scope=col>day</th><th scope=col>dep_time</th><th scope=col>sched_dep_time</th><th scope=col>dep_delay</th><th scope=col>arr_time</th><th scope=col>sched_arr_time</th><th scope=col>arr_delay</th><th scope=col>carrier</th><th scope=col>...</th><th scope=col>minute</th><th scope=col>time_hour</th><th scope=col>name.x</th><th scope=col>name.y</th><th scope=col>lat</th><th scope=col>lon</th><th scope=col>alt</th><th scope=col>tz</th><th scope=col>dst</th><th scope=col>tzone</th></tr>\n",
       "\t<tr><th scope=col>&lt;int&gt;</th><th scope=col>&lt;int&gt;</th><th scope=col>&lt;int&gt;</th><th scope=col>&lt;int&gt;</th><th scope=col>&lt;int&gt;</th><th scope=col>&lt;dbl&gt;</th><th scope=col>&lt;int&gt;</th><th scope=col>&lt;int&gt;</th><th scope=col>&lt;dbl&gt;</th><th scope=col>&lt;chr&gt;</th><th scope=col>...</th><th scope=col>&lt;dbl&gt;</th><th scope=col>&lt;dttm&gt;</th><th scope=col>&lt;chr&gt;</th><th scope=col>&lt;chr&gt;</th><th scope=col>&lt;dbl&gt;</th><th scope=col>&lt;dbl&gt;</th><th scope=col>&lt;dbl&gt;</th><th scope=col>&lt;dbl&gt;</th><th scope=col>&lt;chr&gt;</th><th scope=col>&lt;chr&gt;</th></tr>\n",
       "</thead>\n",
       "<tbody>\n",
       "\t<tr><td>2013</td><td>1</td><td>1</td><td>517</td><td>515</td><td> 2</td><td> 830</td><td> 819</td><td> 11</td><td>UA</td><td>...</td><td>15</td><td>2013-01-01 05:00:00</td><td>United Air Lines Inc. </td><td>Newark Liberty Intl</td><td>40.69250</td><td>-74.16867</td><td>18</td><td>-5</td><td>A</td><td>America/New_York</td></tr>\n",
       "\t<tr><td>2013</td><td>1</td><td>1</td><td>533</td><td>529</td><td> 4</td><td> 850</td><td> 830</td><td> 20</td><td>UA</td><td>...</td><td>29</td><td>2013-01-01 05:00:00</td><td>United Air Lines Inc. </td><td>La Guardia         </td><td>40.77725</td><td>-73.87261</td><td>22</td><td>-5</td><td>A</td><td>America/New_York</td></tr>\n",
       "\t<tr><td>2013</td><td>1</td><td>1</td><td>542</td><td>540</td><td> 2</td><td> 923</td><td> 850</td><td> 33</td><td>AA</td><td>...</td><td>40</td><td>2013-01-01 05:00:00</td><td>American Airlines Inc.</td><td>John F Kennedy Intl</td><td>40.63975</td><td>-73.77893</td><td>13</td><td>-5</td><td>A</td><td>America/New_York</td></tr>\n",
       "\t<tr><td>2013</td><td>1</td><td>1</td><td>544</td><td>545</td><td>-1</td><td>1004</td><td>1022</td><td>-18</td><td>B6</td><td>...</td><td>45</td><td>2013-01-01 05:00:00</td><td>JetBlue Airways       </td><td>John F Kennedy Intl</td><td>40.63975</td><td>-73.77893</td><td>13</td><td>-5</td><td>A</td><td>America/New_York</td></tr>\n",
       "\t<tr><td>2013</td><td>1</td><td>1</td><td>554</td><td>600</td><td>-6</td><td> 812</td><td> 837</td><td>-25</td><td>DL</td><td>...</td><td> 0</td><td>2013-01-01 06:00:00</td><td>Delta Air Lines Inc.  </td><td>La Guardia         </td><td>40.77725</td><td>-73.87261</td><td>22</td><td>-5</td><td>A</td><td>America/New_York</td></tr>\n",
       "\t<tr><td>2013</td><td>1</td><td>1</td><td>554</td><td>558</td><td>-4</td><td> 740</td><td> 728</td><td> 12</td><td>UA</td><td>...</td><td>58</td><td>2013-01-01 05:00:00</td><td>United Air Lines Inc. </td><td>Newark Liberty Intl</td><td>40.69250</td><td>-74.16867</td><td>18</td><td>-5</td><td>A</td><td>America/New_York</td></tr>\n",
       "</tbody>\n",
       "</table>\n"
      ],
      "text/latex": [
       "A tibble: 6 × 27\n",
       "\\begin{tabular}{r|lllllllllllllllllllllllllll}\n",
       " year & month & day & dep\\_time & sched\\_dep\\_time & dep\\_delay & arr\\_time & sched\\_arr\\_time & arr\\_delay & carrier & flight & tailnum & origin & dest & air\\_time & distance & hour & minute & time\\_hour & name.x & name.y & lat & lon & alt & tz & dst & tzone\\\\\n",
       " <int> & <int> & <int> & <int> & <int> & <dbl> & <int> & <int> & <dbl> & <chr> & <int> & <chr> & <chr> & <chr> & <dbl> & <dbl> & <dbl> & <dbl> & <dttm> & <chr> & <chr> & <dbl> & <dbl> & <dbl> & <dbl> & <chr> & <chr>\\\\\n",
       "\\hline\n",
       "\t 2013 & 1 & 1 & 517 & 515 &  2 &  830 &  819 &  11 & UA & 1545 & N14228 & EWR & IAH & 227 & 1400 & 5 & 15 & 2013-01-01 05:00:00 & United Air Lines Inc.  & Newark Liberty Intl & 40.69250 & -74.16867 & 18 & -5 & A & America/New\\_York\\\\\n",
       "\t 2013 & 1 & 1 & 533 & 529 &  4 &  850 &  830 &  20 & UA & 1714 & N24211 & LGA & IAH & 227 & 1416 & 5 & 29 & 2013-01-01 05:00:00 & United Air Lines Inc.  & La Guardia          & 40.77725 & -73.87261 & 22 & -5 & A & America/New\\_York\\\\\n",
       "\t 2013 & 1 & 1 & 542 & 540 &  2 &  923 &  850 &  33 & AA & 1141 & N619AA & JFK & MIA & 160 & 1089 & 5 & 40 & 2013-01-01 05:00:00 & American Airlines Inc. & John F Kennedy Intl & 40.63975 & -73.77893 & 13 & -5 & A & America/New\\_York\\\\\n",
       "\t 2013 & 1 & 1 & 544 & 545 & -1 & 1004 & 1022 & -18 & B6 &  725 & N804JB & JFK & BQN & 183 & 1576 & 5 & 45 & 2013-01-01 05:00:00 & JetBlue Airways        & John F Kennedy Intl & 40.63975 & -73.77893 & 13 & -5 & A & America/New\\_York\\\\\n",
       "\t 2013 & 1 & 1 & 554 & 600 & -6 &  812 &  837 & -25 & DL &  461 & N668DN & LGA & ATL & 116 &  762 & 6 &  0 & 2013-01-01 06:00:00 & Delta Air Lines Inc.   & La Guardia          & 40.77725 & -73.87261 & 22 & -5 & A & America/New\\_York\\\\\n",
       "\t 2013 & 1 & 1 & 554 & 558 & -4 &  740 &  728 &  12 & UA & 1696 & N39463 & EWR & ORD & 150 &  719 & 5 & 58 & 2013-01-01 05:00:00 & United Air Lines Inc.  & Newark Liberty Intl & 40.69250 & -74.16867 & 18 & -5 & A & America/New\\_York\\\\\n",
       "\\end{tabular}\n"
      ],
      "text/markdown": [
       "\n",
       "A tibble: 6 × 27\n",
       "\n",
       "| year &lt;int&gt; | month &lt;int&gt; | day &lt;int&gt; | dep_time &lt;int&gt; | sched_dep_time &lt;int&gt; | dep_delay &lt;dbl&gt; | arr_time &lt;int&gt; | sched_arr_time &lt;int&gt; | arr_delay &lt;dbl&gt; | carrier &lt;chr&gt; | ... ... | minute &lt;dbl&gt; | time_hour &lt;dttm&gt; | name.x &lt;chr&gt; | name.y &lt;chr&gt; | lat &lt;dbl&gt; | lon &lt;dbl&gt; | alt &lt;dbl&gt; | tz &lt;dbl&gt; | dst &lt;chr&gt; | tzone &lt;chr&gt; |\n",
       "|---|---|---|---|---|---|---|---|---|---|---|---|---|---|---|---|---|---|---|---|---|\n",
       "| 2013 | 1 | 1 | 517 | 515 |  2 |  830 |  819 |  11 | UA | ... | 15 | 2013-01-01 05:00:00 | United Air Lines Inc.  | Newark Liberty Intl | 40.69250 | -74.16867 | 18 | -5 | A | America/New_York |\n",
       "| 2013 | 1 | 1 | 533 | 529 |  4 |  850 |  830 |  20 | UA | ... | 29 | 2013-01-01 05:00:00 | United Air Lines Inc.  | La Guardia          | 40.77725 | -73.87261 | 22 | -5 | A | America/New_York |\n",
       "| 2013 | 1 | 1 | 542 | 540 |  2 |  923 |  850 |  33 | AA | ... | 40 | 2013-01-01 05:00:00 | American Airlines Inc. | John F Kennedy Intl | 40.63975 | -73.77893 | 13 | -5 | A | America/New_York |\n",
       "| 2013 | 1 | 1 | 544 | 545 | -1 | 1004 | 1022 | -18 | B6 | ... | 45 | 2013-01-01 05:00:00 | JetBlue Airways        | John F Kennedy Intl | 40.63975 | -73.77893 | 13 | -5 | A | America/New_York |\n",
       "| 2013 | 1 | 1 | 554 | 600 | -6 |  812 |  837 | -25 | DL | ... |  0 | 2013-01-01 06:00:00 | Delta Air Lines Inc.   | La Guardia          | 40.77725 | -73.87261 | 22 | -5 | A | America/New_York |\n",
       "| 2013 | 1 | 1 | 554 | 558 | -4 |  740 |  728 |  12 | UA | ... | 58 | 2013-01-01 05:00:00 | United Air Lines Inc.  | Newark Liberty Intl | 40.69250 | -74.16867 | 18 | -5 | A | America/New_York |\n",
       "\n"
      ],
      "text/plain": [
       "  year month day dep_time sched_dep_time dep_delay arr_time sched_arr_time\n",
       "1 2013 1     1   517      515             2         830      819          \n",
       "2 2013 1     1   533      529             4         850      830          \n",
       "3 2013 1     1   542      540             2         923      850          \n",
       "4 2013 1     1   544      545            -1        1004     1022          \n",
       "5 2013 1     1   554      600            -6         812      837          \n",
       "6 2013 1     1   554      558            -4         740      728          \n",
       "  arr_delay carrier ... minute time_hour           name.x                \n",
       "1  11       UA      ... 15     2013-01-01 05:00:00 United Air Lines Inc. \n",
       "2  20       UA      ... 29     2013-01-01 05:00:00 United Air Lines Inc. \n",
       "3  33       AA      ... 40     2013-01-01 05:00:00 American Airlines Inc.\n",
       "4 -18       B6      ... 45     2013-01-01 05:00:00 JetBlue Airways       \n",
       "5 -25       DL      ...  0     2013-01-01 06:00:00 Delta Air Lines Inc.  \n",
       "6  12       UA      ... 58     2013-01-01 05:00:00 United Air Lines Inc. \n",
       "  name.y              lat      lon       alt tz dst tzone           \n",
       "1 Newark Liberty Intl 40.69250 -74.16867 18  -5 A   America/New_York\n",
       "2 La Guardia          40.77725 -73.87261 22  -5 A   America/New_York\n",
       "3 John F Kennedy Intl 40.63975 -73.77893 13  -5 A   America/New_York\n",
       "4 John F Kennedy Intl 40.63975 -73.77893 13  -5 A   America/New_York\n",
       "5 La Guardia          40.77725 -73.87261 22  -5 A   America/New_York\n",
       "6 Newark Liberty Intl 40.69250 -74.16867 18  -5 A   America/New_York"
      ]
     },
     "metadata": {},
     "output_type": "display_data"
    }
   ],
   "source": [
    "library(nycflights13)\n",
    "head(flights)"
   ]
  },
  {
   "cell_type": "markdown",
   "metadata": {},
   "source": [
    "The first function of `dplyr` I'll use is `filter()`. This lets us filter the subjects that we want, that is, filter the rows: the ***flights***."
   ]
  },
  {
   "cell_type": "markdown",
   "metadata": {},
   "source": [
    "Let's start by filtering for just the flights in January (Month 1): "
   ]
  },
  {
   "cell_type": "code",
   "execution_count": 30,
   "metadata": {},
   "outputs": [
    {
     "name": "stdout",
     "output_type": "stream",
     "text": [
      "\u001b[90m# A tibble: 27,004 x 27\u001b[39m\n",
      "    year month   day dep_time sched_dep_time dep_delay arr_time sched_arr_time\n",
      "   \u001b[3m\u001b[90m<int>\u001b[39m\u001b[23m \u001b[3m\u001b[90m<int>\u001b[39m\u001b[23m \u001b[3m\u001b[90m<int>\u001b[39m\u001b[23m    \u001b[3m\u001b[90m<int>\u001b[39m\u001b[23m          \u001b[3m\u001b[90m<int>\u001b[39m\u001b[23m     \u001b[3m\u001b[90m<dbl>\u001b[39m\u001b[23m    \u001b[3m\u001b[90m<int>\u001b[39m\u001b[23m          \u001b[3m\u001b[90m<int>\u001b[39m\u001b[23m\n",
      "\u001b[90m 1\u001b[39m  \u001b[4m2\u001b[24m013     1     1      517            515         2      830            819\n",
      "\u001b[90m 2\u001b[39m  \u001b[4m2\u001b[24m013     1     1      533            529         4      850            830\n",
      "\u001b[90m 3\u001b[39m  \u001b[4m2\u001b[24m013     1     1      542            540         2      923            850\n",
      "\u001b[90m 4\u001b[39m  \u001b[4m2\u001b[24m013     1     1      544            545        -\u001b[31m1\u001b[39m     \u001b[4m1\u001b[24m004           \u001b[4m1\u001b[24m022\n",
      "\u001b[90m 5\u001b[39m  \u001b[4m2\u001b[24m013     1     1      554            600        -\u001b[31m6\u001b[39m      812            837\n",
      "\u001b[90m 6\u001b[39m  \u001b[4m2\u001b[24m013     1     1      554            558        -\u001b[31m4\u001b[39m      740            728\n",
      "\u001b[90m 7\u001b[39m  \u001b[4m2\u001b[24m013     1     1      555            600        -\u001b[31m5\u001b[39m      913            854\n",
      "\u001b[90m 8\u001b[39m  \u001b[4m2\u001b[24m013     1     1      557            600        -\u001b[31m3\u001b[39m      709            723\n",
      "\u001b[90m 9\u001b[39m  \u001b[4m2\u001b[24m013     1     1      557            600        -\u001b[31m3\u001b[39m      838            846\n",
      "\u001b[90m10\u001b[39m  \u001b[4m2\u001b[24m013     1     1      558            600        -\u001b[31m2\u001b[39m      753            745\n",
      "\u001b[90m# ... with 26,994 more rows, and 19 more variables: arr_delay \u001b[3m\u001b[90m<dbl>\u001b[90m\u001b[23m,\n",
      "#   carrier \u001b[3m\u001b[90m<chr>\u001b[90m\u001b[23m, flight \u001b[3m\u001b[90m<int>\u001b[90m\u001b[23m, tailnum \u001b[3m\u001b[90m<chr>\u001b[90m\u001b[23m, origin \u001b[3m\u001b[90m<chr>\u001b[90m\u001b[23m, dest \u001b[3m\u001b[90m<chr>\u001b[90m\u001b[23m,\n",
      "#   air_time \u001b[3m\u001b[90m<dbl>\u001b[90m\u001b[23m, distance \u001b[3m\u001b[90m<dbl>\u001b[90m\u001b[23m, hour \u001b[3m\u001b[90m<dbl>\u001b[90m\u001b[23m, minute \u001b[3m\u001b[90m<dbl>\u001b[90m\u001b[23m, time_hour \u001b[3m\u001b[90m<dttm>\u001b[90m\u001b[23m,\n",
      "#   name.x \u001b[3m\u001b[90m<chr>\u001b[90m\u001b[23m, name.y \u001b[3m\u001b[90m<chr>\u001b[90m\u001b[23m, lat \u001b[3m\u001b[90m<dbl>\u001b[90m\u001b[23m, lon \u001b[3m\u001b[90m<dbl>\u001b[90m\u001b[23m, alt \u001b[3m\u001b[90m<dbl>\u001b[90m\u001b[23m, tz \u001b[3m\u001b[90m<dbl>\u001b[90m\u001b[23m,\n",
      "#   dst \u001b[3m\u001b[90m<chr>\u001b[90m\u001b[23m, tzone \u001b[3m\u001b[90m<chr>\u001b[90m\u001b[23m\u001b[39m\n"
     ]
    }
   ],
   "source": [
    "print(filter(flights, month == 1))"
   ]
  },
  {
   "cell_type": "markdown",
   "metadata": {},
   "source": [
    "This gives us 27004 rows (refer to the top of the output)."
   ]
  },
  {
   "cell_type": "markdown",
   "metadata": {},
   "source": [
    "How about the first day of January?"
   ]
  },
  {
   "cell_type": "code",
   "execution_count": 31,
   "metadata": {},
   "outputs": [
    {
     "name": "stdout",
     "output_type": "stream",
     "text": [
      "\u001b[90m# A tibble: 842 x 27\u001b[39m\n",
      "    year month   day dep_time sched_dep_time dep_delay arr_time sched_arr_time\n",
      "   \u001b[3m\u001b[90m<int>\u001b[39m\u001b[23m \u001b[3m\u001b[90m<int>\u001b[39m\u001b[23m \u001b[3m\u001b[90m<int>\u001b[39m\u001b[23m    \u001b[3m\u001b[90m<int>\u001b[39m\u001b[23m          \u001b[3m\u001b[90m<int>\u001b[39m\u001b[23m     \u001b[3m\u001b[90m<dbl>\u001b[39m\u001b[23m    \u001b[3m\u001b[90m<int>\u001b[39m\u001b[23m          \u001b[3m\u001b[90m<int>\u001b[39m\u001b[23m\n",
      "\u001b[90m 1\u001b[39m  \u001b[4m2\u001b[24m013     1     1      517            515         2      830            819\n",
      "\u001b[90m 2\u001b[39m  \u001b[4m2\u001b[24m013     1     1      533            529         4      850            830\n",
      "\u001b[90m 3\u001b[39m  \u001b[4m2\u001b[24m013     1     1      542            540         2      923            850\n",
      "\u001b[90m 4\u001b[39m  \u001b[4m2\u001b[24m013     1     1      544            545        -\u001b[31m1\u001b[39m     \u001b[4m1\u001b[24m004           \u001b[4m1\u001b[24m022\n",
      "\u001b[90m 5\u001b[39m  \u001b[4m2\u001b[24m013     1     1      554            600        -\u001b[31m6\u001b[39m      812            837\n",
      "\u001b[90m 6\u001b[39m  \u001b[4m2\u001b[24m013     1     1      554            558        -\u001b[31m4\u001b[39m      740            728\n",
      "\u001b[90m 7\u001b[39m  \u001b[4m2\u001b[24m013     1     1      555            600        -\u001b[31m5\u001b[39m      913            854\n",
      "\u001b[90m 8\u001b[39m  \u001b[4m2\u001b[24m013     1     1      557            600        -\u001b[31m3\u001b[39m      709            723\n",
      "\u001b[90m 9\u001b[39m  \u001b[4m2\u001b[24m013     1     1      557            600        -\u001b[31m3\u001b[39m      838            846\n",
      "\u001b[90m10\u001b[39m  \u001b[4m2\u001b[24m013     1     1      558            600        -\u001b[31m2\u001b[39m      753            745\n",
      "\u001b[90m# ... with 832 more rows, and 19 more variables: arr_delay \u001b[3m\u001b[90m<dbl>\u001b[90m\u001b[23m,\n",
      "#   carrier \u001b[3m\u001b[90m<chr>\u001b[90m\u001b[23m, flight \u001b[3m\u001b[90m<int>\u001b[90m\u001b[23m, tailnum \u001b[3m\u001b[90m<chr>\u001b[90m\u001b[23m, origin \u001b[3m\u001b[90m<chr>\u001b[90m\u001b[23m, dest \u001b[3m\u001b[90m<chr>\u001b[90m\u001b[23m,\n",
      "#   air_time \u001b[3m\u001b[90m<dbl>\u001b[90m\u001b[23m, distance \u001b[3m\u001b[90m<dbl>\u001b[90m\u001b[23m, hour \u001b[3m\u001b[90m<dbl>\u001b[90m\u001b[23m, minute \u001b[3m\u001b[90m<dbl>\u001b[90m\u001b[23m, time_hour \u001b[3m\u001b[90m<dttm>\u001b[90m\u001b[23m,\n",
      "#   name.x \u001b[3m\u001b[90m<chr>\u001b[90m\u001b[23m, name.y \u001b[3m\u001b[90m<chr>\u001b[90m\u001b[23m, lat \u001b[3m\u001b[90m<dbl>\u001b[90m\u001b[23m, lon \u001b[3m\u001b[90m<dbl>\u001b[90m\u001b[23m, alt \u001b[3m\u001b[90m<dbl>\u001b[90m\u001b[23m, tz \u001b[3m\u001b[90m<dbl>\u001b[90m\u001b[23m,\n",
      "#   dst \u001b[3m\u001b[90m<chr>\u001b[90m\u001b[23m, tzone \u001b[3m\u001b[90m<chr>\u001b[90m\u001b[23m\u001b[39m\n"
     ]
    }
   ],
   "source": [
    "print(filter(flights, month == 1, day == 1))"
   ]
  },
  {
   "cell_type": "markdown",
   "metadata": {},
   "source": [
    "### magrittr"
   ]
  },
  {
   "cell_type": "markdown",
   "metadata": {},
   "source": [
    "As we build up more functions in our data manipulation tool bag, we are going to end up with lots of nested functions. Instead, we can use the `magrittr` or \"pipe\" symbol `%>%`. Creating a *pipeline* of functions."
   ]
  },
  {
   "cell_type": "markdown",
   "metadata": {},
   "source": [
    "The command `%>%` can be read as \"then\". For example, to print out a filtered result of the first of January, we can rewrite the above command as: "
   ]
  },
  {
   "cell_type": "code",
   "execution_count": 32,
   "metadata": {},
   "outputs": [
    {
     "name": "stdout",
     "output_type": "stream",
     "text": [
      "\u001b[90m# A tibble: 842 x 27\u001b[39m\n",
      "    year month   day dep_time sched_dep_time dep_delay arr_time sched_arr_time\n",
      "   \u001b[3m\u001b[90m<int>\u001b[39m\u001b[23m \u001b[3m\u001b[90m<int>\u001b[39m\u001b[23m \u001b[3m\u001b[90m<int>\u001b[39m\u001b[23m    \u001b[3m\u001b[90m<int>\u001b[39m\u001b[23m          \u001b[3m\u001b[90m<int>\u001b[39m\u001b[23m     \u001b[3m\u001b[90m<dbl>\u001b[39m\u001b[23m    \u001b[3m\u001b[90m<int>\u001b[39m\u001b[23m          \u001b[3m\u001b[90m<int>\u001b[39m\u001b[23m\n",
      "\u001b[90m 1\u001b[39m  \u001b[4m2\u001b[24m013     1     1      517            515         2      830            819\n",
      "\u001b[90m 2\u001b[39m  \u001b[4m2\u001b[24m013     1     1      533            529         4      850            830\n",
      "\u001b[90m 3\u001b[39m  \u001b[4m2\u001b[24m013     1     1      542            540         2      923            850\n",
      "\u001b[90m 4\u001b[39m  \u001b[4m2\u001b[24m013     1     1      544            545        -\u001b[31m1\u001b[39m     \u001b[4m1\u001b[24m004           \u001b[4m1\u001b[24m022\n",
      "\u001b[90m 5\u001b[39m  \u001b[4m2\u001b[24m013     1     1      554            600        -\u001b[31m6\u001b[39m      812            837\n",
      "\u001b[90m 6\u001b[39m  \u001b[4m2\u001b[24m013     1     1      554            558        -\u001b[31m4\u001b[39m      740            728\n",
      "\u001b[90m 7\u001b[39m  \u001b[4m2\u001b[24m013     1     1      555            600        -\u001b[31m5\u001b[39m      913            854\n",
      "\u001b[90m 8\u001b[39m  \u001b[4m2\u001b[24m013     1     1      557            600        -\u001b[31m3\u001b[39m      709            723\n",
      "\u001b[90m 9\u001b[39m  \u001b[4m2\u001b[24m013     1     1      557            600        -\u001b[31m3\u001b[39m      838            846\n",
      "\u001b[90m10\u001b[39m  \u001b[4m2\u001b[24m013     1     1      558            600        -\u001b[31m2\u001b[39m      753            745\n",
      "\u001b[90m# ... with 832 more rows, and 19 more variables: arr_delay \u001b[3m\u001b[90m<dbl>\u001b[90m\u001b[23m,\n",
      "#   carrier \u001b[3m\u001b[90m<chr>\u001b[90m\u001b[23m, flight \u001b[3m\u001b[90m<int>\u001b[90m\u001b[23m, tailnum \u001b[3m\u001b[90m<chr>\u001b[90m\u001b[23m, origin \u001b[3m\u001b[90m<chr>\u001b[90m\u001b[23m, dest \u001b[3m\u001b[90m<chr>\u001b[90m\u001b[23m,\n",
      "#   air_time \u001b[3m\u001b[90m<dbl>\u001b[90m\u001b[23m, distance \u001b[3m\u001b[90m<dbl>\u001b[90m\u001b[23m, hour \u001b[3m\u001b[90m<dbl>\u001b[90m\u001b[23m, minute \u001b[3m\u001b[90m<dbl>\u001b[90m\u001b[23m, time_hour \u001b[3m\u001b[90m<dttm>\u001b[90m\u001b[23m,\n",
      "#   name.x \u001b[3m\u001b[90m<chr>\u001b[90m\u001b[23m, name.y \u001b[3m\u001b[90m<chr>\u001b[90m\u001b[23m, lat \u001b[3m\u001b[90m<dbl>\u001b[90m\u001b[23m, lon \u001b[3m\u001b[90m<dbl>\u001b[90m\u001b[23m, alt \u001b[3m\u001b[90m<dbl>\u001b[90m\u001b[23m, tz \u001b[3m\u001b[90m<dbl>\u001b[90m\u001b[23m,\n",
      "#   dst \u001b[3m\u001b[90m<chr>\u001b[90m\u001b[23m, tzone \u001b[3m\u001b[90m<chr>\u001b[90m\u001b[23m\u001b[39m\n"
     ]
    }
   ],
   "source": [
    "print(flights %>% filter(month == 1, day == 1))"
   ]
  },
  {
   "cell_type": "markdown",
   "metadata": {},
   "source": [
    "Now let's print out a filtered result for all American Airlines flights (AA)"
   ]
  },
  {
   "cell_type": "code",
   "execution_count": 33,
   "metadata": {},
   "outputs": [
    {
     "name": "stdout",
     "output_type": "stream",
     "text": [
      "\u001b[90m# A tibble: 32,729 x 27\u001b[39m\n",
      "    year month   day dep_time sched_dep_time dep_delay arr_time sched_arr_time\n",
      "   \u001b[3m\u001b[90m<int>\u001b[39m\u001b[23m \u001b[3m\u001b[90m<int>\u001b[39m\u001b[23m \u001b[3m\u001b[90m<int>\u001b[39m\u001b[23m    \u001b[3m\u001b[90m<int>\u001b[39m\u001b[23m          \u001b[3m\u001b[90m<int>\u001b[39m\u001b[23m     \u001b[3m\u001b[90m<dbl>\u001b[39m\u001b[23m    \u001b[3m\u001b[90m<int>\u001b[39m\u001b[23m          \u001b[3m\u001b[90m<int>\u001b[39m\u001b[23m\n",
      "\u001b[90m 1\u001b[39m  \u001b[4m2\u001b[24m013     1     1      542            540         2      923            850\n",
      "\u001b[90m 2\u001b[39m  \u001b[4m2\u001b[24m013     1     1      558            600        -\u001b[31m2\u001b[39m      753            745\n",
      "\u001b[90m 3\u001b[39m  \u001b[4m2\u001b[24m013     1     1      559            600        -\u001b[31m1\u001b[39m      941            910\n",
      "\u001b[90m 4\u001b[39m  \u001b[4m2\u001b[24m013     1     1      606            610        -\u001b[31m4\u001b[39m      858            910\n",
      "\u001b[90m 5\u001b[39m  \u001b[4m2\u001b[24m013     1     1      623            610        13      920            915\n",
      "\u001b[90m 6\u001b[39m  \u001b[4m2\u001b[24m013     1     1      628            630        -\u001b[31m2\u001b[39m     \u001b[4m1\u001b[24m137           \u001b[4m1\u001b[24m140\n",
      "\u001b[90m 7\u001b[39m  \u001b[4m2\u001b[24m013     1     1      629            630        -\u001b[31m1\u001b[39m      824            810\n",
      "\u001b[90m 8\u001b[39m  \u001b[4m2\u001b[24m013     1     1      635            635         0     \u001b[4m1\u001b[24m028            940\n",
      "\u001b[90m 9\u001b[39m  \u001b[4m2\u001b[24m013     1     1      656            700        -\u001b[31m4\u001b[39m      854            850\n",
      "\u001b[90m10\u001b[39m  \u001b[4m2\u001b[24m013     1     1      656            659        -\u001b[31m3\u001b[39m      949            959\n",
      "\u001b[90m# ... with 32,719 more rows, and 19 more variables: arr_delay \u001b[3m\u001b[90m<dbl>\u001b[90m\u001b[23m,\n",
      "#   carrier \u001b[3m\u001b[90m<chr>\u001b[90m\u001b[23m, flight \u001b[3m\u001b[90m<int>\u001b[90m\u001b[23m, tailnum \u001b[3m\u001b[90m<chr>\u001b[90m\u001b[23m, origin \u001b[3m\u001b[90m<chr>\u001b[90m\u001b[23m, dest \u001b[3m\u001b[90m<chr>\u001b[90m\u001b[23m,\n",
      "#   air_time \u001b[3m\u001b[90m<dbl>\u001b[90m\u001b[23m, distance \u001b[3m\u001b[90m<dbl>\u001b[90m\u001b[23m, hour \u001b[3m\u001b[90m<dbl>\u001b[90m\u001b[23m, minute \u001b[3m\u001b[90m<dbl>\u001b[90m\u001b[23m, time_hour \u001b[3m\u001b[90m<dttm>\u001b[90m\u001b[23m,\n",
      "#   name.x \u001b[3m\u001b[90m<chr>\u001b[90m\u001b[23m, name.y \u001b[3m\u001b[90m<chr>\u001b[90m\u001b[23m, lat \u001b[3m\u001b[90m<dbl>\u001b[90m\u001b[23m, lon \u001b[3m\u001b[90m<dbl>\u001b[90m\u001b[23m, alt \u001b[3m\u001b[90m<dbl>\u001b[90m\u001b[23m, tz \u001b[3m\u001b[90m<dbl>\u001b[90m\u001b[23m,\n",
      "#   dst \u001b[3m\u001b[90m<chr>\u001b[90m\u001b[23m, tzone \u001b[3m\u001b[90m<chr>\u001b[90m\u001b[23m\u001b[39m\n"
     ]
    }
   ],
   "source": [
    "print(flights %>% filter(carrier == \"AA\"))"
   ]
  },
  {
   "cell_type": "markdown",
   "metadata": {},
   "source": [
    "No I'll filter *dep_delay* (departure delay time) by a range of 120 to 240 minutes:"
   ]
  },
  {
   "cell_type": "code",
   "execution_count": 34,
   "metadata": {},
   "outputs": [
    {
     "name": "stdout",
     "output_type": "stream",
     "text": [
      "\u001b[90m# A tibble: 8,364 x 27\u001b[39m\n",
      "    year month   day dep_time sched_dep_time dep_delay arr_time sched_arr_time\n",
      "   \u001b[3m\u001b[90m<int>\u001b[39m\u001b[23m \u001b[3m\u001b[90m<int>\u001b[39m\u001b[23m \u001b[3m\u001b[90m<int>\u001b[39m\u001b[23m    \u001b[3m\u001b[90m<int>\u001b[39m\u001b[23m          \u001b[3m\u001b[90m<int>\u001b[39m\u001b[23m     \u001b[3m\u001b[90m<dbl>\u001b[39m\u001b[23m    \u001b[3m\u001b[90m<int>\u001b[39m\u001b[23m          \u001b[3m\u001b[90m<int>\u001b[39m\u001b[23m\n",
      "\u001b[90m 1\u001b[39m  \u001b[4m2\u001b[24m013     1     1      957            733       144     \u001b[4m1\u001b[24m056            853\n",
      "\u001b[90m 2\u001b[39m  \u001b[4m2\u001b[24m013     1     1     \u001b[4m1\u001b[24m114            900       134     \u001b[4m1\u001b[24m447           \u001b[4m1\u001b[24m222\n",
      "\u001b[90m 3\u001b[39m  \u001b[4m2\u001b[24m013     1     1     \u001b[4m1\u001b[24m540           \u001b[4m1\u001b[24m338       122     \u001b[4m2\u001b[24m020           \u001b[4m1\u001b[24m825\n",
      "\u001b[90m 4\u001b[39m  \u001b[4m2\u001b[24m013     1     1     \u001b[4m1\u001b[24m856           \u001b[4m1\u001b[24m645       131     \u001b[4m2\u001b[24m212           \u001b[4m2\u001b[24m005\n",
      "\u001b[90m 5\u001b[39m  \u001b[4m2\u001b[24m013     1     1     \u001b[4m1\u001b[24m934           \u001b[4m1\u001b[24m725       129     \u001b[4m2\u001b[24m126           \u001b[4m1\u001b[24m855\n",
      "\u001b[90m 6\u001b[39m  \u001b[4m2\u001b[24m013     1     1     \u001b[4m1\u001b[24m938           \u001b[4m1\u001b[24m703       155     \u001b[4m2\u001b[24m109           \u001b[4m1\u001b[24m823\n",
      "\u001b[90m 7\u001b[39m  \u001b[4m2\u001b[24m013     1     1     \u001b[4m1\u001b[24m942           \u001b[4m1\u001b[24m705       157     \u001b[4m2\u001b[24m124           \u001b[4m1\u001b[24m830\n",
      "\u001b[90m 8\u001b[39m  \u001b[4m2\u001b[24m013     1     1     \u001b[4m2\u001b[24m006           \u001b[4m1\u001b[24m630       216     \u001b[4m2\u001b[24m230           \u001b[4m1\u001b[24m848\n",
      "\u001b[90m 9\u001b[39m  \u001b[4m2\u001b[24m013     1     1     \u001b[4m2\u001b[24m009           \u001b[4m1\u001b[24m808       121     \u001b[4m2\u001b[24m145           \u001b[4m1\u001b[24m942\n",
      "\u001b[90m10\u001b[39m  \u001b[4m2\u001b[24m013     1     1     \u001b[4m2\u001b[24m221           \u001b[4m2\u001b[24m000       141     \u001b[4m2\u001b[24m331           \u001b[4m2\u001b[24m124\n",
      "\u001b[90m# ... with 8,354 more rows, and 19 more variables: arr_delay \u001b[3m\u001b[90m<dbl>\u001b[90m\u001b[23m,\n",
      "#   carrier \u001b[3m\u001b[90m<chr>\u001b[90m\u001b[23m, flight \u001b[3m\u001b[90m<int>\u001b[90m\u001b[23m, tailnum \u001b[3m\u001b[90m<chr>\u001b[90m\u001b[23m, origin \u001b[3m\u001b[90m<chr>\u001b[90m\u001b[23m, dest \u001b[3m\u001b[90m<chr>\u001b[90m\u001b[23m,\n",
      "#   air_time \u001b[3m\u001b[90m<dbl>\u001b[90m\u001b[23m, distance \u001b[3m\u001b[90m<dbl>\u001b[90m\u001b[23m, hour \u001b[3m\u001b[90m<dbl>\u001b[90m\u001b[23m, minute \u001b[3m\u001b[90m<dbl>\u001b[90m\u001b[23m, time_hour \u001b[3m\u001b[90m<dttm>\u001b[90m\u001b[23m,\n",
      "#   name.x \u001b[3m\u001b[90m<chr>\u001b[90m\u001b[23m, name.y \u001b[3m\u001b[90m<chr>\u001b[90m\u001b[23m, lat \u001b[3m\u001b[90m<dbl>\u001b[90m\u001b[23m, lon \u001b[3m\u001b[90m<dbl>\u001b[90m\u001b[23m, alt \u001b[3m\u001b[90m<dbl>\u001b[90m\u001b[23m, tz \u001b[3m\u001b[90m<dbl>\u001b[90m\u001b[23m,\n",
      "#   dst \u001b[3m\u001b[90m<chr>\u001b[90m\u001b[23m, tzone \u001b[3m\u001b[90m<chr>\u001b[90m\u001b[23m\u001b[39m\n"
     ]
    }
   ],
   "source": [
    "print(filter(flights, dep_delay %in% 120:240))"
   ]
  },
  {
   "cell_type": "markdown",
   "metadata": {},
   "source": [
    "How many records(flights) in the data.frame have a departure delay time in a range of 120 to 240 for the carrier AA?"
   ]
  },
  {
   "cell_type": "code",
   "execution_count": 35,
   "metadata": {},
   "outputs": [
    {
     "data": {
      "text/html": [
       "620"
      ],
      "text/latex": [
       "620"
      ],
      "text/markdown": [
       "620"
      ],
      "text/plain": [
       "[1] 620"
      ]
     },
     "metadata": {},
     "output_type": "display_data"
    }
   ],
   "source": [
    "flights %>% filter(carrier == \"AA\", dep_delay %in% 120:240) %>% nrow()"
   ]
  },
  {
   "cell_type": "markdown",
   "metadata": {},
   "source": [
    "What proportion of records in the data.frame for the carrier AA as that departure delay time range?"
   ]
  },
  {
   "cell_type": "code",
   "execution_count": 36,
   "metadata": {},
   "outputs": [
    {
     "data": {
      "text/html": [
       "0.153"
      ],
      "text/latex": [
       "0.153"
      ],
      "text/markdown": [
       "0.153"
      ],
      "text/plain": [
       "[1] 0.153"
      ]
     },
     "metadata": {},
     "output_type": "display_data"
    }
   ],
   "source": [
    "n1 = flights %>% filter(carrier == \"AA\", dep_delay %in% 120:240) %>% nrow()\n",
    "round(n1/nrow(population),3)"
   ]
  },
  {
   "cell_type": "markdown",
   "metadata": {},
   "source": [
    "## Select"
   ]
  },
  {
   "cell_type": "markdown",
   "metadata": {},
   "source": [
    "The `ncyflights13` dataset is too wide to fit onto the screen. In all the examples of filtering above we couldn’t even see all of the variables – there were always 12 columns which didn’t fit on the screen. It’d be good if we could make our dataframe a bit narrower, so that we can fit the information we’re interested in (and nothing else) onto the screen. This is what select does – it’s essentially a filter, but for columns rather than rows."
   ]
  },
  {
   "cell_type": "markdown",
   "metadata": {},
   "source": [
    "So let’s say I was just interested in departure times and arrival times for all American Airways flights on the 1st of January, then I could just add to our filter example from before:"
   ]
  },
  {
   "cell_type": "code",
   "execution_count": 37,
   "metadata": {},
   "outputs": [
    {
     "name": "stdout",
     "output_type": "stream",
     "text": [
      "\u001b[90m# A tibble: 94 x 3\u001b[39m\n",
      "   flight dep_time arr_time\n",
      "    \u001b[3m\u001b[90m<int>\u001b[39m\u001b[23m    \u001b[3m\u001b[90m<int>\u001b[39m\u001b[23m    \u001b[3m\u001b[90m<int>\u001b[39m\u001b[23m\n",
      "\u001b[90m 1\u001b[39m   \u001b[4m1\u001b[24m141      542      923\n",
      "\u001b[90m 2\u001b[39m    301      558      753\n",
      "\u001b[90m 3\u001b[39m    707      559      941\n",
      "\u001b[90m 4\u001b[39m   \u001b[4m1\u001b[24m895      606      858\n",
      "\u001b[90m 5\u001b[39m   \u001b[4m1\u001b[24m837      623      920\n",
      "\u001b[90m 6\u001b[39m    413      628     \u001b[4m1\u001b[24m137\n",
      "\u001b[90m 7\u001b[39m    303      629      824\n",
      "\u001b[90m 8\u001b[39m    711      635     \u001b[4m1\u001b[24m028\n",
      "\u001b[90m 9\u001b[39m    305      656      854\n",
      "\u001b[90m10\u001b[39m   \u001b[4m1\u001b[24m815      656      949\n",
      "\u001b[90m# ... with 84 more rows\u001b[39m\n"
     ]
    }
   ],
   "source": [
    "print(flights %>% \n",
    "        filter(carrier == \"AA\", month == 1, day == 1) %>% \n",
    "        select(flight, dep_time, arr_time))"
   ]
  },
  {
   "cell_type": "markdown",
   "metadata": {},
   "source": [
    "We can get fancy with select: if I wanted to grab just the variables from flights that have something to do with “time”, then I could use the contains command:"
   ]
  },
  {
   "cell_type": "code",
   "execution_count": 38,
   "metadata": {},
   "outputs": [
    {
     "name": "stdout",
     "output_type": "stream",
     "text": [
      "\u001b[90m# A tibble: 336,776 x 6\u001b[39m\n",
      "   dep_time sched_dep_time arr_time sched_arr_time air_time time_hour          \n",
      "      \u001b[3m\u001b[90m<int>\u001b[39m\u001b[23m          \u001b[3m\u001b[90m<int>\u001b[39m\u001b[23m    \u001b[3m\u001b[90m<int>\u001b[39m\u001b[23m          \u001b[3m\u001b[90m<int>\u001b[39m\u001b[23m    \u001b[3m\u001b[90m<dbl>\u001b[39m\u001b[23m \u001b[3m\u001b[90m<dttm>\u001b[39m\u001b[23m             \n",
      "\u001b[90m 1\u001b[39m      517            515      830            819      227 2013-01-01 \u001b[90m05:00:00\u001b[39m\n",
      "\u001b[90m 2\u001b[39m      533            529      850            830      227 2013-01-01 \u001b[90m05:00:00\u001b[39m\n",
      "\u001b[90m 3\u001b[39m      542            540      923            850      160 2013-01-01 \u001b[90m05:00:00\u001b[39m\n",
      "\u001b[90m 4\u001b[39m      544            545     \u001b[4m1\u001b[24m004           \u001b[4m1\u001b[24m022      183 2013-01-01 \u001b[90m05:00:00\u001b[39m\n",
      "\u001b[90m 5\u001b[39m      554            600      812            837      116 2013-01-01 \u001b[90m06:00:00\u001b[39m\n",
      "\u001b[90m 6\u001b[39m      554            558      740            728      150 2013-01-01 \u001b[90m05:00:00\u001b[39m\n",
      "\u001b[90m 7\u001b[39m      555            600      913            854      158 2013-01-01 \u001b[90m06:00:00\u001b[39m\n",
      "\u001b[90m 8\u001b[39m      557            600      709            723       53 2013-01-01 \u001b[90m06:00:00\u001b[39m\n",
      "\u001b[90m 9\u001b[39m      557            600      838            846      140 2013-01-01 \u001b[90m06:00:00\u001b[39m\n",
      "\u001b[90m10\u001b[39m      558            600      753            745      138 2013-01-01 \u001b[90m06:00:00\u001b[39m\n",
      "\u001b[90m# ... with 336,766 more rows\u001b[39m\n"
     ]
    }
   ],
   "source": [
    "print(flights %>% select(contains(\"time\")))"
   ]
  },
  {
   "cell_type": "code",
   "execution_count": 39,
   "metadata": {},
   "outputs": [
    {
     "name": "stdout",
     "output_type": "stream",
     "text": [
      "\u001b[90m# A tibble: 336,776 x 3\u001b[39m\n",
      "    year month   day\n",
      "   \u001b[3m\u001b[90m<int>\u001b[39m\u001b[23m \u001b[3m\u001b[90m<int>\u001b[39m\u001b[23m \u001b[3m\u001b[90m<int>\u001b[39m\u001b[23m\n",
      "\u001b[90m 1\u001b[39m  \u001b[4m2\u001b[24m013     1     1\n",
      "\u001b[90m 2\u001b[39m  \u001b[4m2\u001b[24m013     1     1\n",
      "\u001b[90m 3\u001b[39m  \u001b[4m2\u001b[24m013     1     1\n",
      "\u001b[90m 4\u001b[39m  \u001b[4m2\u001b[24m013     1     1\n",
      "\u001b[90m 5\u001b[39m  \u001b[4m2\u001b[24m013     1     1\n",
      "\u001b[90m 6\u001b[39m  \u001b[4m2\u001b[24m013     1     1\n",
      "\u001b[90m 7\u001b[39m  \u001b[4m2\u001b[24m013     1     1\n",
      "\u001b[90m 8\u001b[39m  \u001b[4m2\u001b[24m013     1     1\n",
      "\u001b[90m 9\u001b[39m  \u001b[4m2\u001b[24m013     1     1\n",
      "\u001b[90m10\u001b[39m  \u001b[4m2\u001b[24m013     1     1\n",
      "\u001b[90m# ... with 336,766 more rows\u001b[39m\n"
     ]
    }
   ],
   "source": [
    "print(select(flights, year:day))"
   ]
  },
  {
   "cell_type": "markdown",
   "metadata": {},
   "source": [
    "Selecting all columns in the `flights` data.frame that contain double type variables. "
   ]
  },
  {
   "cell_type": "code",
   "execution_count": 40,
   "metadata": {},
   "outputs": [
    {
     "name": "stdout",
     "output_type": "stream",
     "text": [
      "\u001b[90m# A tibble: 336,776 x 11\u001b[39m\n",
      "   dep_delay arr_delay air_time distance  hour minute time_hour             lat\n",
      "       \u001b[3m\u001b[90m<dbl>\u001b[39m\u001b[23m     \u001b[3m\u001b[90m<dbl>\u001b[39m\u001b[23m    \u001b[3m\u001b[90m<dbl>\u001b[39m\u001b[23m    \u001b[3m\u001b[90m<dbl>\u001b[39m\u001b[23m \u001b[3m\u001b[90m<dbl>\u001b[39m\u001b[23m  \u001b[3m\u001b[90m<dbl>\u001b[39m\u001b[23m \u001b[3m\u001b[90m<dttm>\u001b[39m\u001b[23m              \u001b[3m\u001b[90m<dbl>\u001b[39m\u001b[23m\n",
      "\u001b[90m 1\u001b[39m         2        11      227     \u001b[4m1\u001b[24m400     5     15 2013-01-01 \u001b[90m05:00:00\u001b[39m  40.7\n",
      "\u001b[90m 2\u001b[39m         4        20      227     \u001b[4m1\u001b[24m416     5     29 2013-01-01 \u001b[90m05:00:00\u001b[39m  40.8\n",
      "\u001b[90m 3\u001b[39m         2        33      160     \u001b[4m1\u001b[24m089     5     40 2013-01-01 \u001b[90m05:00:00\u001b[39m  40.6\n",
      "\u001b[90m 4\u001b[39m        -\u001b[31m1\u001b[39m       -\u001b[31m18\u001b[39m      183     \u001b[4m1\u001b[24m576     5     45 2013-01-01 \u001b[90m05:00:00\u001b[39m  40.6\n",
      "\u001b[90m 5\u001b[39m        -\u001b[31m6\u001b[39m       -\u001b[31m25\u001b[39m      116      762     6      0 2013-01-01 \u001b[90m06:00:00\u001b[39m  40.8\n",
      "\u001b[90m 6\u001b[39m        -\u001b[31m4\u001b[39m        12      150      719     5     58 2013-01-01 \u001b[90m05:00:00\u001b[39m  40.7\n",
      "\u001b[90m 7\u001b[39m        -\u001b[31m5\u001b[39m        19      158     \u001b[4m1\u001b[24m065     6      0 2013-01-01 \u001b[90m06:00:00\u001b[39m  40.7\n",
      "\u001b[90m 8\u001b[39m        -\u001b[31m3\u001b[39m       -\u001b[31m14\u001b[39m       53      229     6      0 2013-01-01 \u001b[90m06:00:00\u001b[39m  40.8\n",
      "\u001b[90m 9\u001b[39m        -\u001b[31m3\u001b[39m        -\u001b[31m8\u001b[39m      140      944     6      0 2013-01-01 \u001b[90m06:00:00\u001b[39m  40.6\n",
      "\u001b[90m10\u001b[39m        -\u001b[31m2\u001b[39m         8      138      733     6      0 2013-01-01 \u001b[90m06:00:00\u001b[39m  40.8\n",
      "\u001b[90m# ... with 336,766 more rows, and 3 more variables: lon \u001b[3m\u001b[90m<dbl>\u001b[90m\u001b[23m, alt \u001b[3m\u001b[90m<dbl>\u001b[90m\u001b[23m,\n",
      "#   tz \u001b[3m\u001b[90m<dbl>\u001b[90m\u001b[23m\u001b[39m\n"
     ]
    }
   ],
   "source": [
    "print(select_if(flights, is.double))"
   ]
  },
  {
   "cell_type": "markdown",
   "metadata": {},
   "source": [
    "## Making new variables"
   ]
  },
  {
   "cell_type": "markdown",
   "metadata": {},
   "source": [
    "What if we wanted to add new columns, in the dataset `flights`? \n",
    "\n",
    "We have the departure delay `dep_delay`, which is the difference between the scheduled departure time (`sched_dep_time`) and the departure time (`dep_time`); let's assume that we do not have that and we would like to calculate it. We can do that with:"
   ]
  },
  {
   "cell_type": "code",
   "execution_count": 41,
   "metadata": {},
   "outputs": [
    {
     "name": "stdout",
     "output_type": "stream",
     "text": [
      "\u001b[90m# A tibble: 336,776 x 28\u001b[39m\n",
      "    year month   day dep_time sched_dep_time dep_delay arr_time sched_arr_time\n",
      "   \u001b[3m\u001b[90m<int>\u001b[39m\u001b[23m \u001b[3m\u001b[90m<int>\u001b[39m\u001b[23m \u001b[3m\u001b[90m<int>\u001b[39m\u001b[23m    \u001b[3m\u001b[90m<int>\u001b[39m\u001b[23m          \u001b[3m\u001b[90m<int>\u001b[39m\u001b[23m     \u001b[3m\u001b[90m<dbl>\u001b[39m\u001b[23m    \u001b[3m\u001b[90m<int>\u001b[39m\u001b[23m          \u001b[3m\u001b[90m<int>\u001b[39m\u001b[23m\n",
      "\u001b[90m 1\u001b[39m  \u001b[4m2\u001b[24m013     1     1      517            515         2      830            819\n",
      "\u001b[90m 2\u001b[39m  \u001b[4m2\u001b[24m013     1     1      533            529         4      850            830\n",
      "\u001b[90m 3\u001b[39m  \u001b[4m2\u001b[24m013     1     1      542            540         2      923            850\n",
      "\u001b[90m 4\u001b[39m  \u001b[4m2\u001b[24m013     1     1      544            545        -\u001b[31m1\u001b[39m     \u001b[4m1\u001b[24m004           \u001b[4m1\u001b[24m022\n",
      "\u001b[90m 5\u001b[39m  \u001b[4m2\u001b[24m013     1     1      554            600        -\u001b[31m6\u001b[39m      812            837\n",
      "\u001b[90m 6\u001b[39m  \u001b[4m2\u001b[24m013     1     1      554            558        -\u001b[31m4\u001b[39m      740            728\n",
      "\u001b[90m 7\u001b[39m  \u001b[4m2\u001b[24m013     1     1      555            600        -\u001b[31m5\u001b[39m      913            854\n",
      "\u001b[90m 8\u001b[39m  \u001b[4m2\u001b[24m013     1     1      557            600        -\u001b[31m3\u001b[39m      709            723\n",
      "\u001b[90m 9\u001b[39m  \u001b[4m2\u001b[24m013     1     1      557            600        -\u001b[31m3\u001b[39m      838            846\n",
      "\u001b[90m10\u001b[39m  \u001b[4m2\u001b[24m013     1     1      558            600        -\u001b[31m2\u001b[39m      753            745\n",
      "\u001b[90m# ... with 336,766 more rows, and 20 more variables: arr_delay \u001b[3m\u001b[90m<dbl>\u001b[90m\u001b[23m,\n",
      "#   carrier \u001b[3m\u001b[90m<chr>\u001b[90m\u001b[23m, flight \u001b[3m\u001b[90m<int>\u001b[90m\u001b[23m, tailnum \u001b[3m\u001b[90m<chr>\u001b[90m\u001b[23m, origin \u001b[3m\u001b[90m<chr>\u001b[90m\u001b[23m, dest \u001b[3m\u001b[90m<chr>\u001b[90m\u001b[23m,\n",
      "#   air_time \u001b[3m\u001b[90m<dbl>\u001b[90m\u001b[23m, distance \u001b[3m\u001b[90m<dbl>\u001b[90m\u001b[23m, hour \u001b[3m\u001b[90m<dbl>\u001b[90m\u001b[23m, minute \u001b[3m\u001b[90m<dbl>\u001b[90m\u001b[23m, time_hour \u001b[3m\u001b[90m<dttm>\u001b[90m\u001b[23m,\n",
      "#   name.x \u001b[3m\u001b[90m<chr>\u001b[90m\u001b[23m, name.y \u001b[3m\u001b[90m<chr>\u001b[90m\u001b[23m, lat \u001b[3m\u001b[90m<dbl>\u001b[90m\u001b[23m, lon \u001b[3m\u001b[90m<dbl>\u001b[90m\u001b[23m, alt \u001b[3m\u001b[90m<dbl>\u001b[90m\u001b[23m, tz \u001b[3m\u001b[90m<dbl>\u001b[90m\u001b[23m,\n",
      "#   dst \u001b[3m\u001b[90m<chr>\u001b[90m\u001b[23m, tzone \u001b[3m\u001b[90m<chr>\u001b[90m\u001b[23m, delay \u001b[3m\u001b[90m<int>\u001b[90m\u001b[23m\u001b[39m\n"
     ]
    }
   ],
   "source": [
    "print(flights %>% mutate(delay = dep_time - sched_dep_time))"
   ]
  },
  {
   "cell_type": "markdown",
   "metadata": {},
   "source": [
    "If we want to add the calculated column into the dataset:"
   ]
  },
  {
   "cell_type": "raw",
   "metadata": {},
   "source": [
    "flights <- flights %>% mutate(delay = dep_time - sched_dep_time)"
   ]
  },
  {
   "cell_type": "markdown",
   "metadata": {},
   "source": [
    "## Grouping subjects based on criteria"
   ]
  },
  {
   "cell_type": "markdown",
   "metadata": {},
   "source": [
    "We can now do something quite powerful like clump variables together into groups, and then summarise these groups."
   ]
  },
  {
   "cell_type": "markdown",
   "metadata": {},
   "source": [
    "I have an hypothesis about flight delays in New York City: I reckon they increase in winter. Due to snow, ice, weather reasons in general. I suspect that in the winter months, the delays in December, January, February, are worse than in the summer months. To investigate this, we'll need to group flights by month, which can be done like this: "
   ]
  },
  {
   "cell_type": "code",
   "execution_count": 42,
   "metadata": {},
   "outputs": [
    {
     "name": "stdout",
     "output_type": "stream",
     "text": [
      "\u001b[90m# A tibble: 336,776 x 27\u001b[39m\n",
      "\u001b[90m# Groups:   month [12]\u001b[39m\n",
      "    year month   day dep_time sched_dep_time dep_delay arr_time sched_arr_time\n",
      "   \u001b[3m\u001b[90m<int>\u001b[39m\u001b[23m \u001b[3m\u001b[90m<int>\u001b[39m\u001b[23m \u001b[3m\u001b[90m<int>\u001b[39m\u001b[23m    \u001b[3m\u001b[90m<int>\u001b[39m\u001b[23m          \u001b[3m\u001b[90m<int>\u001b[39m\u001b[23m     \u001b[3m\u001b[90m<dbl>\u001b[39m\u001b[23m    \u001b[3m\u001b[90m<int>\u001b[39m\u001b[23m          \u001b[3m\u001b[90m<int>\u001b[39m\u001b[23m\n",
      "\u001b[90m 1\u001b[39m  \u001b[4m2\u001b[24m013     1     1      517            515         2      830            819\n",
      "\u001b[90m 2\u001b[39m  \u001b[4m2\u001b[24m013     1     1      533            529         4      850            830\n",
      "\u001b[90m 3\u001b[39m  \u001b[4m2\u001b[24m013     1     1      542            540         2      923            850\n",
      "\u001b[90m 4\u001b[39m  \u001b[4m2\u001b[24m013     1     1      544            545        -\u001b[31m1\u001b[39m     \u001b[4m1\u001b[24m004           \u001b[4m1\u001b[24m022\n",
      "\u001b[90m 5\u001b[39m  \u001b[4m2\u001b[24m013     1     1      554            600        -\u001b[31m6\u001b[39m      812            837\n",
      "\u001b[90m 6\u001b[39m  \u001b[4m2\u001b[24m013     1     1      554            558        -\u001b[31m4\u001b[39m      740            728\n",
      "\u001b[90m 7\u001b[39m  \u001b[4m2\u001b[24m013     1     1      555            600        -\u001b[31m5\u001b[39m      913            854\n",
      "\u001b[90m 8\u001b[39m  \u001b[4m2\u001b[24m013     1     1      557            600        -\u001b[31m3\u001b[39m      709            723\n",
      "\u001b[90m 9\u001b[39m  \u001b[4m2\u001b[24m013     1     1      557            600        -\u001b[31m3\u001b[39m      838            846\n",
      "\u001b[90m10\u001b[39m  \u001b[4m2\u001b[24m013     1     1      558            600        -\u001b[31m2\u001b[39m      753            745\n",
      "\u001b[90m# ... with 336,766 more rows, and 19 more variables: arr_delay \u001b[3m\u001b[90m<dbl>\u001b[90m\u001b[23m,\n",
      "#   carrier \u001b[3m\u001b[90m<chr>\u001b[90m\u001b[23m, flight \u001b[3m\u001b[90m<int>\u001b[90m\u001b[23m, tailnum \u001b[3m\u001b[90m<chr>\u001b[90m\u001b[23m, origin \u001b[3m\u001b[90m<chr>\u001b[90m\u001b[23m, dest \u001b[3m\u001b[90m<chr>\u001b[90m\u001b[23m,\n",
      "#   air_time \u001b[3m\u001b[90m<dbl>\u001b[90m\u001b[23m, distance \u001b[3m\u001b[90m<dbl>\u001b[90m\u001b[23m, hour \u001b[3m\u001b[90m<dbl>\u001b[90m\u001b[23m, minute \u001b[3m\u001b[90m<dbl>\u001b[90m\u001b[23m, time_hour \u001b[3m\u001b[90m<dttm>\u001b[90m\u001b[23m,\n",
      "#   name.x \u001b[3m\u001b[90m<chr>\u001b[90m\u001b[23m, name.y \u001b[3m\u001b[90m<chr>\u001b[90m\u001b[23m, lat \u001b[3m\u001b[90m<dbl>\u001b[90m\u001b[23m, lon \u001b[3m\u001b[90m<dbl>\u001b[90m\u001b[23m, alt \u001b[3m\u001b[90m<dbl>\u001b[90m\u001b[23m, tz \u001b[3m\u001b[90m<dbl>\u001b[90m\u001b[23m,\n",
      "#   dst \u001b[3m\u001b[90m<chr>\u001b[90m\u001b[23m, tzone \u001b[3m\u001b[90m<chr>\u001b[90m\u001b[23m\u001b[39m\n"
     ]
    }
   ],
   "source": [
    "by_month <- group_by(flights,month)\n",
    "print(by_month)"
   ]
  },
  {
   "cell_type": "markdown",
   "metadata": {},
   "source": [
    "This data frame is the same as the original, apart from the second line: `Groups: month [12]`. That tells me that a group has been created for each month, but to explore this further, we'll have to summarise and that's in the next section."
   ]
  },
  {
   "cell_type": "markdown",
   "metadata": {},
   "source": [
    "About `group_by`:\n",
    "\n",
    "- We can group by multiple variables: `by_day <- group_by(flights,year,month,day)` will create a dataframe with 365 groups for each day of the year, and\n",
    "- We can ungroup a grouped dataframe using, `ungroup()`. That'll be handy in the next section.\n"
   ]
  },
  {
   "cell_type": "markdown",
   "metadata": {},
   "source": [
    "## Producing summary statistics for groups of subjects"
   ]
  },
  {
   "cell_type": "markdown",
   "metadata": {},
   "source": [
    "To test the hypothesis about flight delays in winter, I will need to create a summary statistic about delays for each month. We can do it by calculating the mean flight departure delay for each calendar month like this:"
   ]
  },
  {
   "cell_type": "code",
   "execution_count": 43,
   "metadata": {},
   "outputs": [
    {
     "data": {
      "text/html": [
       "<table>\n",
       "<caption>A tibble: 12 × 2</caption>\n",
       "<thead>\n",
       "\t<tr><th scope=col>month</th><th scope=col>delay</th></tr>\n",
       "\t<tr><th scope=col>&lt;int&gt;</th><th scope=col>&lt;dbl&gt;</th></tr>\n",
       "</thead>\n",
       "<tbody>\n",
       "\t<tr><td> 1</td><td>10.036665</td></tr>\n",
       "\t<tr><td> 2</td><td>10.816843</td></tr>\n",
       "\t<tr><td> 3</td><td>13.227076</td></tr>\n",
       "\t<tr><td> 4</td><td>13.938038</td></tr>\n",
       "\t<tr><td> 5</td><td>12.986859</td></tr>\n",
       "\t<tr><td> 6</td><td>20.846332</td></tr>\n",
       "\t<tr><td> 7</td><td>21.727787</td></tr>\n",
       "\t<tr><td> 8</td><td>12.611040</td></tr>\n",
       "\t<tr><td> 9</td><td> 6.722476</td></tr>\n",
       "\t<tr><td>10</td><td> 6.243988</td></tr>\n",
       "\t<tr><td>11</td><td> 5.435362</td></tr>\n",
       "\t<tr><td>12</td><td>16.576688</td></tr>\n",
       "</tbody>\n",
       "</table>\n"
      ],
      "text/latex": [
       "A tibble: 12 × 2\n",
       "\\begin{tabular}{r|ll}\n",
       " month & delay\\\\\n",
       " <int> & <dbl>\\\\\n",
       "\\hline\n",
       "\t  1 & 10.036665\\\\\n",
       "\t  2 & 10.816843\\\\\n",
       "\t  3 & 13.227076\\\\\n",
       "\t  4 & 13.938038\\\\\n",
       "\t  5 & 12.986859\\\\\n",
       "\t  6 & 20.846332\\\\\n",
       "\t  7 & 21.727787\\\\\n",
       "\t  8 & 12.611040\\\\\n",
       "\t  9 &  6.722476\\\\\n",
       "\t 10 &  6.243988\\\\\n",
       "\t 11 &  5.435362\\\\\n",
       "\t 12 & 16.576688\\\\\n",
       "\\end{tabular}\n"
      ],
      "text/markdown": [
       "\n",
       "A tibble: 12 × 2\n",
       "\n",
       "| month &lt;int&gt; | delay &lt;dbl&gt; |\n",
       "|---|---|\n",
       "|  1 | 10.036665 |\n",
       "|  2 | 10.816843 |\n",
       "|  3 | 13.227076 |\n",
       "|  4 | 13.938038 |\n",
       "|  5 | 12.986859 |\n",
       "|  6 | 20.846332 |\n",
       "|  7 | 21.727787 |\n",
       "|  8 | 12.611040 |\n",
       "|  9 |  6.722476 |\n",
       "| 10 |  6.243988 |\n",
       "| 11 |  5.435362 |\n",
       "| 12 | 16.576688 |\n",
       "\n"
      ],
      "text/plain": [
       "   month delay    \n",
       "1   1    10.036665\n",
       "2   2    10.816843\n",
       "3   3    13.227076\n",
       "4   4    13.938038\n",
       "5   5    12.986859\n",
       "6   6    20.846332\n",
       "7   7    21.727787\n",
       "8   8    12.611040\n",
       "9   9     6.722476\n",
       "10 10     6.243988\n",
       "11 11     5.435362\n",
       "12 12    16.576688"
      ]
     },
     "metadata": {},
     "output_type": "display_data"
    }
   ],
   "source": [
    "summarise(by_month, delay = mean(dep_delay, na.rm = TRUE))"
   ]
  },
  {
   "cell_type": "markdown",
   "metadata": {},
   "source": [
    "This has takenthe grouped dataframe `by_month`, and for each group has computed the mean of the values in the `dep_delay` column for that group. The `na.rm = TRUE` argument tells the mean function to remove (`rm` in unix-talk) all values that are not available `NA`. Basically, some rows in this dataframe do not have an entry in the `dep_delay column`, so R puts the symbol `NA` there instead. Trying to calculate the mean with *NA*'s doesn't work."
   ]
  },
  {
   "cell_type": "markdown",
   "metadata": {},
   "source": [
    "But looking at the results, I don't think the hypothesis was correct. December has slightly worse delays than the preceeding months, but January and February really weren't so bad, and by far the worst months are June and July. We can make a nice plot of the trends over the entire year using `ggplot`. We'll group by day this time instead of month:"
   ]
  },
  {
   "cell_type": "code",
   "execution_count": 44,
   "metadata": {},
   "outputs": [
    {
     "name": "stderr",
     "output_type": "stream",
     "text": [
      "`geom_smooth()` using method = 'loess' and formula 'y ~ x'\n"
     ]
    },
    {
     "data": {
      "image/png": "[encoded data removed]",
      "text/plain": [
       "plot without title"
      ]
     },
     "metadata": {},
     "output_type": "display_data"
    }
   ],
   "source": [
    "by_day <- group_by(flights,year,month,day)\n",
    "summarise(by_day, delay = mean(dep_delay, na.rm = TRUE)) %>%\n",
    "ungroup() %>% \n",
    "mutate(day_num = seq_along(delay)) %>% \n",
    "ggplot(aes(day_num,delay)) + \n",
    "geom_point() + \n",
    "geom_smooth()"
   ]
  },
  {
   "cell_type": "markdown",
   "metadata": {},
   "source": [
    "I've added a slightly tricky intermediate step here to create a column `day_num` counting the days of the year: `ungroup() %>% mutate(day_num = seq_along(delay))` ungroups `by_day`, and then creates a sequence along the column delay - essentially counting the row numbers."
   ]
  },
  {
   "cell_type": "markdown",
   "metadata": {},
   "source": [
    "I think that delays increases along with number passengers. The more the passengers that are flying, the more delays we have. Guided by this exploration, June, July, and December would be the busiest months for flying, and that there are longer delays when there are more flights. A simple modification to our `summarise` command will allow us to explore this relationship:"
   ]
  },
  {
   "cell_type": "code",
   "execution_count": 45,
   "metadata": {},
   "outputs": [
    {
     "data": {
      "image/png": "[encoded data removed]",
      "text/plain": [
       "plot without title"
      ]
     },
     "metadata": {},
     "output_type": "display_data"
    }
   ],
   "source": [
    "summarise(by_day, delay = mean(dep_delay, na.rm = TRUE), num_flights = n()) %>%\n",
    "ggplot(aes(num_flights,delay)) + \n",
    "geom_point() + \n",
    "geom_smooth(method='lm') #method='lm' to visualize a linear relationship"
   ]
  },
  {
   "cell_type": "markdown",
   "metadata": {},
   "source": [
    "The `num_flights = n()` bit produces a second summary statistic for each group, which is just the number of items in that group. Note that I don't need to index days of the year now, so I can lose the `ungroup` bit."
   ]
  },
  {
   "cell_type": "markdown",
   "metadata": {},
   "source": [
    "It looks like there's some relationship between number of flights and delays, but it's not particularly strong. Again, some more investigation is needed."
   ]
  },
  {
   "cell_type": "markdown",
   "metadata": {},
   "source": [
    "## Putting together multiple dataframes with common subjects"
   ]
  },
  {
   "cell_type": "markdown",
   "metadata": {},
   "source": [
    "Now let's look at the dataframe `airlines` in the `nycflights13` package:"
   ]
  },
  {
   "cell_type": "code",
   "execution_count": 46,
   "metadata": {},
   "outputs": [
    {
     "data": {
      "text/html": [
       "<table>\n",
       "<caption>A tibble: 16 × 2</caption>\n",
       "<thead>\n",
       "\t<tr><th scope=col>carrier</th><th scope=col>name</th></tr>\n",
       "\t<tr><th scope=col>&lt;chr&gt;</th><th scope=col>&lt;chr&gt;</th></tr>\n",
       "</thead>\n",
       "<tbody>\n",
       "\t<tr><td>9E</td><td>Endeavor Air Inc.          </td></tr>\n",
       "\t<tr><td>AA</td><td>American Airlines Inc.     </td></tr>\n",
       "\t<tr><td>AS</td><td>Alaska Airlines Inc.       </td></tr>\n",
       "\t<tr><td>B6</td><td>JetBlue Airways            </td></tr>\n",
       "\t<tr><td>DL</td><td>Delta Air Lines Inc.       </td></tr>\n",
       "\t<tr><td>EV</td><td>ExpressJet Airlines Inc.   </td></tr>\n",
       "\t<tr><td>F9</td><td>Frontier Airlines Inc.     </td></tr>\n",
       "\t<tr><td>FL</td><td>AirTran Airways Corporation</td></tr>\n",
       "\t<tr><td>HA</td><td>Hawaiian Airlines Inc.     </td></tr>\n",
       "\t<tr><td>MQ</td><td>Envoy Air                  </td></tr>\n",
       "\t<tr><td>OO</td><td>SkyWest Airlines Inc.      </td></tr>\n",
       "\t<tr><td>UA</td><td>United Air Lines Inc.      </td></tr>\n",
       "\t<tr><td>US</td><td>US Airways Inc.            </td></tr>\n",
       "\t<tr><td>VX</td><td>Virgin America             </td></tr>\n",
       "\t<tr><td>WN</td><td>Southwest Airlines Co.     </td></tr>\n",
       "\t<tr><td>YV</td><td>Mesa Airlines Inc.         </td></tr>\n",
       "</tbody>\n",
       "</table>\n"
      ],
      "text/latex": [
       "A tibble: 16 × 2\n",
       "\\begin{tabular}{r|ll}\n",
       " carrier & name\\\\\n",
       " <chr> & <chr>\\\\\n",
       "\\hline\n",
       "\t 9E & Endeavor Air Inc.          \\\\\n",
       "\t AA & American Airlines Inc.     \\\\\n",
       "\t AS & Alaska Airlines Inc.       \\\\\n",
       "\t B6 & JetBlue Airways            \\\\\n",
       "\t DL & Delta Air Lines Inc.       \\\\\n",
       "\t EV & ExpressJet Airlines Inc.   \\\\\n",
       "\t F9 & Frontier Airlines Inc.     \\\\\n",
       "\t FL & AirTran Airways Corporation\\\\\n",
       "\t HA & Hawaiian Airlines Inc.     \\\\\n",
       "\t MQ & Envoy Air                  \\\\\n",
       "\t OO & SkyWest Airlines Inc.      \\\\\n",
       "\t UA & United Air Lines Inc.      \\\\\n",
       "\t US & US Airways Inc.            \\\\\n",
       "\t VX & Virgin America             \\\\\n",
       "\t WN & Southwest Airlines Co.     \\\\\n",
       "\t YV & Mesa Airlines Inc.         \\\\\n",
       "\\end{tabular}\n"
      ],
      "text/markdown": [
       "\n",
       "A tibble: 16 × 2\n",
       "\n",
       "| carrier &lt;chr&gt; | name &lt;chr&gt; |\n",
       "|---|---|\n",
       "| 9E | Endeavor Air Inc.           |\n",
       "| AA | American Airlines Inc.      |\n",
       "| AS | Alaska Airlines Inc.        |\n",
       "| B6 | JetBlue Airways             |\n",
       "| DL | Delta Air Lines Inc.        |\n",
       "| EV | ExpressJet Airlines Inc.    |\n",
       "| F9 | Frontier Airlines Inc.      |\n",
       "| FL | AirTran Airways Corporation |\n",
       "| HA | Hawaiian Airlines Inc.      |\n",
       "| MQ | Envoy Air                   |\n",
       "| OO | SkyWest Airlines Inc.       |\n",
       "| UA | United Air Lines Inc.       |\n",
       "| US | US Airways Inc.             |\n",
       "| VX | Virgin America              |\n",
       "| WN | Southwest Airlines Co.      |\n",
       "| YV | Mesa Airlines Inc.          |\n",
       "\n"
      ],
      "text/plain": [
       "   carrier name                       \n",
       "1  9E      Endeavor Air Inc.          \n",
       "2  AA      American Airlines Inc.     \n",
       "3  AS      Alaska Airlines Inc.       \n",
       "4  B6      JetBlue Airways            \n",
       "5  DL      Delta Air Lines Inc.       \n",
       "6  EV      ExpressJet Airlines Inc.   \n",
       "7  F9      Frontier Airlines Inc.     \n",
       "8  FL      AirTran Airways Corporation\n",
       "9  HA      Hawaiian Airlines Inc.     \n",
       "10 MQ      Envoy Air                  \n",
       "11 OO      SkyWest Airlines Inc.      \n",
       "12 UA      United Air Lines Inc.      \n",
       "13 US      US Airways Inc.            \n",
       "14 VX      Virgin America             \n",
       "15 WN      Southwest Airlines Co.     \n",
       "16 YV      Mesa Airlines Inc.         "
      ]
     },
     "metadata": {},
     "output_type": "display_data"
    }
   ],
   "source": [
    "airlines"
   ]
  },
  {
   "cell_type": "markdown",
   "metadata": {},
   "source": [
    "So there are two dataframes:\n",
    "\n",
    "- `flights` - each row is a flight, with a variable `carrier`, which gives the abbreviation for the carrier of each flight\n",
    "- `airlines` - each row is an airline company, which also has a variable called `carrier`.\n",
    "\n",
    "I would like you to add the full names to the flights dataset and then saving it."
   ]
  },
  {
   "cell_type": "code",
   "execution_count": 47,
   "metadata": {},
   "outputs": [],
   "source": [
    "flights <- left_join(flights, airlines, by = \"carrier\")"
   ]
  },
  {
   "cell_type": "markdown",
   "metadata": {},
   "source": [
    "I've made a ***left join*** of the dataset airlines into flights by the common feature `carrier`. "
   ]
  },
  {
   "cell_type": "code",
   "execution_count": 48,
   "metadata": {},
   "outputs": [
    {
     "name": "stdout",
     "output_type": "stream",
     "text": [
      "\u001b[90m# A tibble: 336,776 x 5\u001b[39m\n",
      "    year month   day carrier name                    \n",
      "   \u001b[3m\u001b[90m<int>\u001b[39m\u001b[23m \u001b[3m\u001b[90m<int>\u001b[39m\u001b[23m \u001b[3m\u001b[90m<int>\u001b[39m\u001b[23m \u001b[3m\u001b[90m<chr>\u001b[39m\u001b[23m   \u001b[3m\u001b[90m<chr>\u001b[39m\u001b[23m                   \n",
      "\u001b[90m 1\u001b[39m  \u001b[4m2\u001b[24m013     1     1 UA      United Air Lines Inc.   \n",
      "\u001b[90m 2\u001b[39m  \u001b[4m2\u001b[24m013     1     1 UA      United Air Lines Inc.   \n",
      "\u001b[90m 3\u001b[39m  \u001b[4m2\u001b[24m013     1     1 AA      American Airlines Inc.  \n",
      "\u001b[90m 4\u001b[39m  \u001b[4m2\u001b[24m013     1     1 B6      JetBlue Airways         \n",
      "\u001b[90m 5\u001b[39m  \u001b[4m2\u001b[24m013     1     1 DL      Delta Air Lines Inc.    \n",
      "\u001b[90m 6\u001b[39m  \u001b[4m2\u001b[24m013     1     1 UA      United Air Lines Inc.   \n",
      "\u001b[90m 7\u001b[39m  \u001b[4m2\u001b[24m013     1     1 B6      JetBlue Airways         \n",
      "\u001b[90m 8\u001b[39m  \u001b[4m2\u001b[24m013     1     1 EV      ExpressJet Airlines Inc.\n",
      "\u001b[90m 9\u001b[39m  \u001b[4m2\u001b[24m013     1     1 B6      JetBlue Airways         \n",
      "\u001b[90m10\u001b[39m  \u001b[4m2\u001b[24m013     1     1 AA      American Airlines Inc.  \n",
      "\u001b[90m# ... with 336,766 more rows\u001b[39m\n"
     ]
    }
   ],
   "source": [
    "print(flights %>% select(year, month, day, carrier, name))"
   ]
  },
  {
   "cell_type": "markdown",
   "metadata": {},
   "source": [
    "I've used `select` to show only come features and check that we've added the extended name of the carrier."
   ]
  },
  {
   "cell_type": "markdown",
   "metadata": {},
   "source": [
    "We can do the same with `airports` dataset:"
   ]
  },
  {
   "cell_type": "code",
   "execution_count": 49,
   "metadata": {},
   "outputs": [
    {
     "name": "stdout",
     "output_type": "stream",
     "text": [
      "\u001b[90m# A tibble: 1,458 x 8\u001b[39m\n",
      "   faa   name                       lat    lon   alt    tz dst   tzone          \n",
      "   \u001b[3m\u001b[90m<chr>\u001b[39m\u001b[23m \u001b[3m\u001b[90m<chr>\u001b[39m\u001b[23m                    \u001b[3m\u001b[90m<dbl>\u001b[39m\u001b[23m  \u001b[3m\u001b[90m<dbl>\u001b[39m\u001b[23m \u001b[3m\u001b[90m<dbl>\u001b[39m\u001b[23m \u001b[3m\u001b[90m<dbl>\u001b[39m\u001b[23m \u001b[3m\u001b[90m<chr>\u001b[39m\u001b[23m \u001b[3m\u001b[90m<chr>\u001b[39m\u001b[23m          \n",
      "\u001b[90m 1\u001b[39m 04G   Lansdowne Airport         41.1  -\u001b[31m80\u001b[39m\u001b[31m.\u001b[39m\u001b[31m6\u001b[39m  \u001b[4m1\u001b[24m044    -\u001b[31m5\u001b[39m A     America/New_Yo~\n",
      "\u001b[90m 2\u001b[39m 06A   Moton Field Municipal A~  32.5  -\u001b[31m85\u001b[39m\u001b[31m.\u001b[39m\u001b[31m7\u001b[39m   264    -\u001b[31m6\u001b[39m A     America/Chicago\n",
      "\u001b[90m 3\u001b[39m 06C   Schaumburg Regional       42.0  -\u001b[31m88\u001b[39m\u001b[31m.\u001b[39m\u001b[31m1\u001b[39m   801    -\u001b[31m6\u001b[39m A     America/Chicago\n",
      "\u001b[90m 4\u001b[39m 06N   Randall Airport           41.4  -\u001b[31m74\u001b[39m\u001b[31m.\u001b[39m\u001b[31m4\u001b[39m   523    -\u001b[31m5\u001b[39m A     America/New_Yo~\n",
      "\u001b[90m 5\u001b[39m 09J   Jekyll Island Airport     31.1  -\u001b[31m81\u001b[39m\u001b[31m.\u001b[39m\u001b[31m4\u001b[39m    11    -\u001b[31m5\u001b[39m A     America/New_Yo~\n",
      "\u001b[90m 6\u001b[39m 0A9   Elizabethton Municipal ~  36.4  -\u001b[31m82\u001b[39m\u001b[31m.\u001b[39m\u001b[31m2\u001b[39m  \u001b[4m1\u001b[24m593    -\u001b[31m5\u001b[39m A     America/New_Yo~\n",
      "\u001b[90m 7\u001b[39m 0G6   Williams County Airport   41.5  -\u001b[31m84\u001b[39m\u001b[31m.\u001b[39m\u001b[31m5\u001b[39m   730    -\u001b[31m5\u001b[39m A     America/New_Yo~\n",
      "\u001b[90m 8\u001b[39m 0G7   Finger Lakes Regional A~  42.9  -\u001b[31m76\u001b[39m\u001b[31m.\u001b[39m\u001b[31m8\u001b[39m   492    -\u001b[31m5\u001b[39m A     America/New_Yo~\n",
      "\u001b[90m 9\u001b[39m 0P2   Shoestring Aviation Air~  39.8  -\u001b[31m76\u001b[39m\u001b[31m.\u001b[39m\u001b[31m6\u001b[39m  \u001b[4m1\u001b[24m000    -\u001b[31m5\u001b[39m U     America/New_Yo~\n",
      "\u001b[90m10\u001b[39m 0S9   Jefferson County Intl     48.1 -\u001b[31m123\u001b[39m\u001b[31m.\u001b[39m    108    -\u001b[31m8\u001b[39m A     America/Los_An~\n",
      "\u001b[90m# ... with 1,448 more rows\u001b[39m\n"
     ]
    }
   ],
   "source": [
    "print(airports)"
   ]
  },
  {
   "cell_type": "code",
   "execution_count": 50,
   "metadata": {},
   "outputs": [
    {
     "name": "stdout",
     "output_type": "stream",
     "text": [
      "\u001b[90m# A tibble: 336,776 x 5\u001b[39m\n",
      "    year month   day carrier origin\n",
      "   \u001b[3m\u001b[90m<int>\u001b[39m\u001b[23m \u001b[3m\u001b[90m<int>\u001b[39m\u001b[23m \u001b[3m\u001b[90m<int>\u001b[39m\u001b[23m \u001b[3m\u001b[90m<chr>\u001b[39m\u001b[23m   \u001b[3m\u001b[90m<chr>\u001b[39m\u001b[23m \n",
      "\u001b[90m 1\u001b[39m  \u001b[4m2\u001b[24m013     1     1 UA      EWR   \n",
      "\u001b[90m 2\u001b[39m  \u001b[4m2\u001b[24m013     1     1 UA      LGA   \n",
      "\u001b[90m 3\u001b[39m  \u001b[4m2\u001b[24m013     1     1 AA      JFK   \n",
      "\u001b[90m 4\u001b[39m  \u001b[4m2\u001b[24m013     1     1 B6      JFK   \n",
      "\u001b[90m 5\u001b[39m  \u001b[4m2\u001b[24m013     1     1 DL      LGA   \n",
      "\u001b[90m 6\u001b[39m  \u001b[4m2\u001b[24m013     1     1 UA      EWR   \n",
      "\u001b[90m 7\u001b[39m  \u001b[4m2\u001b[24m013     1     1 B6      EWR   \n",
      "\u001b[90m 8\u001b[39m  \u001b[4m2\u001b[24m013     1     1 EV      LGA   \n",
      "\u001b[90m 9\u001b[39m  \u001b[4m2\u001b[24m013     1     1 B6      JFK   \n",
      "\u001b[90m10\u001b[39m  \u001b[4m2\u001b[24m013     1     1 AA      LGA   \n",
      "\u001b[90m# ... with 336,766 more rows\u001b[39m\n"
     ]
    }
   ],
   "source": [
    "print(flights %>% select(year, month, day, carrier, origin))"
   ]
  },
  {
   "cell_type": "markdown",
   "metadata": {},
   "source": [
    "And join by `origin` tht is the same as `faa` for the `airports` dataset."
   ]
  },
  {
   "cell_type": "code",
   "execution_count": 51,
   "metadata": {},
   "outputs": [],
   "source": [
    "flights <- flights %>% left_join(airports, by = c(\"origin\" = \"faa\")) "
   ]
  },
  {
   "cell_type": "code",
   "execution_count": 52,
   "metadata": {},
   "outputs": [
    {
     "name": "stdout",
     "output_type": "stream",
     "text": [
      "\u001b[90m# A tibble: 336,776 x 6\u001b[39m\n",
      "    year month   day carrier origin name.y             \n",
      "   \u001b[3m\u001b[90m<int>\u001b[39m\u001b[23m \u001b[3m\u001b[90m<int>\u001b[39m\u001b[23m \u001b[3m\u001b[90m<int>\u001b[39m\u001b[23m \u001b[3m\u001b[90m<chr>\u001b[39m\u001b[23m   \u001b[3m\u001b[90m<chr>\u001b[39m\u001b[23m  \u001b[3m\u001b[90m<chr>\u001b[39m\u001b[23m              \n",
      "\u001b[90m 1\u001b[39m  \u001b[4m2\u001b[24m013     1     1 UA      EWR    Newark Liberty Intl\n",
      "\u001b[90m 2\u001b[39m  \u001b[4m2\u001b[24m013     1     1 UA      LGA    La Guardia         \n",
      "\u001b[90m 3\u001b[39m  \u001b[4m2\u001b[24m013     1     1 AA      JFK    John F Kennedy Intl\n",
      "\u001b[90m 4\u001b[39m  \u001b[4m2\u001b[24m013     1     1 B6      JFK    John F Kennedy Intl\n",
      "\u001b[90m 5\u001b[39m  \u001b[4m2\u001b[24m013     1     1 DL      LGA    La Guardia         \n",
      "\u001b[90m 6\u001b[39m  \u001b[4m2\u001b[24m013     1     1 UA      EWR    Newark Liberty Intl\n",
      "\u001b[90m 7\u001b[39m  \u001b[4m2\u001b[24m013     1     1 B6      EWR    Newark Liberty Intl\n",
      "\u001b[90m 8\u001b[39m  \u001b[4m2\u001b[24m013     1     1 EV      LGA    La Guardia         \n",
      "\u001b[90m 9\u001b[39m  \u001b[4m2\u001b[24m013     1     1 B6      JFK    John F Kennedy Intl\n",
      "\u001b[90m10\u001b[39m  \u001b[4m2\u001b[24m013     1     1 AA      LGA    La Guardia         \n",
      "\u001b[90m# ... with 336,766 more rows\u001b[39m\n"
     ]
    }
   ],
   "source": [
    "print(flights %>% select(year, month, day, carrier, origin, name.y))"
   ]
  },
  {
   "cell_type": "code",
   "execution_count": null,
   "metadata": {},
   "outputs": [],
   "source": []
  }
 ],
 "metadata": {
  "kernelspec": {
   "display_name": "R",
   "language": "R",
   "name": "ir"
  },
  "language_info": {
   "codemirror_mode": "r",
   "file_extension": ".r",
   "mimetype": "text/x-r-source",
   "name": "R",
   "pygments_lexer": "r",
   "version": "3.6.1"
  }
 },
 "nbformat": 4,
 "nbformat_minor": 4
}
